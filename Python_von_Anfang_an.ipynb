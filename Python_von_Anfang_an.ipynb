{
 "cells": [
  {
   "cell_type": "markdown",
   "id": "e7c05150",
   "metadata": {
    "direction": "ltr",
    "toc": true
   },
   "source": [
    "<h1>Inhaltsverzeichnis<span class=\"tocSkip\"></span></h1>\n",
    "<div class=\"toc\"><ul class=\"toc-item\"><li><span><a href=\"#Python-von-Anfang-an\" data-toc-modified-id=\"Python-von-Anfang-an-1\"><span class=\"toc-item-num\">1&nbsp;&nbsp;</span>Python von Anfang an</a></span></li><li><span><a href=\"#Eingabe-und-Ausgabe\" data-toc-modified-id=\"Eingabe-und-Ausgabe-2\"><span class=\"toc-item-num\">2&nbsp;&nbsp;</span>Eingabe und Ausgabe</a></span><ul class=\"toc-item\"><li><span><a href=\"#Ausgabe-eines-Strings-(Wort)\" data-toc-modified-id=\"Ausgabe-eines-Strings-(Wort)-2.1\"><span class=\"toc-item-num\">2.1&nbsp;&nbsp;</span>Ausgabe eines Strings (Wort)</a></span></li><li><span><a href=\"#Ausgabe-einer-Zahl\" data-toc-modified-id=\"Ausgabe-einer-Zahl-2.2\"><span class=\"toc-item-num\">2.2&nbsp;&nbsp;</span>Ausgabe einer Zahl</a></span><ul class=\"toc-item\"><li><span><a href=\"#Ausgabe-einer-Variablen\" data-toc-modified-id=\"Ausgabe-einer-Variablen-2.2.1\"><span class=\"toc-item-num\">2.2.1&nbsp;&nbsp;</span>Ausgabe einer Variablen</a></span></li><li><span><a href=\"#Ausgabe-von-Text,-Zahlen-und-Variablen-zusammen\" data-toc-modified-id=\"Ausgabe-von-Text,-Zahlen-und-Variablen-zusammen-2.2.2\"><span class=\"toc-item-num\">2.2.2&nbsp;&nbsp;</span>Ausgabe von Text, Zahlen und Variablen zusammen</a></span></li><li><span><a href=\"#Eingabe-eines-Strings\" data-toc-modified-id=\"Eingabe-eines-Strings-2.2.3\"><span class=\"toc-item-num\">2.2.3&nbsp;&nbsp;</span>Eingabe eines Strings</a></span></li><li><span><a href=\"#Eingabe-einer-Zahl\" data-toc-modified-id=\"Eingabe-einer-Zahl-2.2.4\"><span class=\"toc-item-num\">2.2.4&nbsp;&nbsp;</span>Eingabe einer Zahl</a></span></li><li><span><a href=\"#String,-Integer-und-Float\" data-toc-modified-id=\"String,-Integer-und-Float-2.2.5\"><span class=\"toc-item-num\">2.2.5&nbsp;&nbsp;</span>String, Integer und Float</a></span></li><li><span><a href=\"#Rechnen-mit-Zahlen---Operatoren\" data-toc-modified-id=\"Rechnen-mit-Zahlen---Operatoren-2.2.6\"><span class=\"toc-item-num\">2.2.6&nbsp;&nbsp;</span>Rechnen mit Zahlen - Operatoren</a></span></li><li><span><a href=\"#Aufgaben-zu-Eingabe-und-Ausgabe-von-Strings\" data-toc-modified-id=\"Aufgaben-zu-Eingabe-und-Ausgabe-von-Strings-2.2.7\"><span class=\"toc-item-num\">2.2.7&nbsp;&nbsp;</span>Aufgaben zu Eingabe und Ausgabe von Strings</a></span></li></ul></li></ul></li><li><span><a href=\"#Kontrollstrukturen\" data-toc-modified-id=\"Kontrollstrukturen-3\"><span class=\"toc-item-num\">3&nbsp;&nbsp;</span>Kontrollstrukturen</a></span><ul class=\"toc-item\"><li><span><a href=\"#if-elif-else\" data-toc-modified-id=\"if-elif-else-3.1\"><span class=\"toc-item-num\">3.1&nbsp;&nbsp;</span>if elif else</a></span><ul class=\"toc-item\"><li><span><a href=\"#Böse-Fallen-bei-der-Verzweigung-und-wie-man-nicht-reintappt-(doch---Anfänger-tappen-immer-in-diese-Fallen)\" data-toc-modified-id=\"Böse-Fallen-bei-der-Verzweigung-und-wie-man-nicht-reintappt-(doch---Anfänger-tappen-immer-in-diese-Fallen)-3.1.1\"><span class=\"toc-item-num\">3.1.1&nbsp;&nbsp;</span>Böse Fallen bei der Verzweigung und wie man nicht reintappt (doch - Anfänger tappen immer in diese Fallen)</a></span><ul class=\"toc-item\"><li><span><a href=\"#Übungen-zu-Verzweigungen\" data-toc-modified-id=\"Übungen-zu-Verzweigungen-3.1.1.1\"><span class=\"toc-item-num\">3.1.1.1&nbsp;&nbsp;</span>Übungen zu Verzweigungen</a></span></li></ul></li></ul></li><li><span><a href=\"#Schleifen\" data-toc-modified-id=\"Schleifen-3.2\"><span class=\"toc-item-num\">3.2&nbsp;&nbsp;</span>Schleifen</a></span><ul class=\"toc-item\"><li><span><a href=\"#while-Schleife-:--Solange-eine-Ausdruck-wahr-ist\" data-toc-modified-id=\"while-Schleife-:--Solange-eine-Ausdruck-wahr-ist-3.2.1\"><span class=\"toc-item-num\">3.2.1&nbsp;&nbsp;</span>while-Schleife :  Solange eine Ausdruck wahr ist</a></span></li><li><span><a href=\"#Zuweisungsoperatoren\" data-toc-modified-id=\"Zuweisungsoperatoren-3.2.2\"><span class=\"toc-item-num\">3.2.2&nbsp;&nbsp;</span>Zuweisungsoperatoren</a></span></li><li><span><a href=\"#for---Schleife:-Eine-genaue-Anzahl-von-Durchläufen\" data-toc-modified-id=\"for---Schleife:-Eine-genaue-Anzahl-von-Durchläufen-3.2.3\"><span class=\"toc-item-num\">3.2.3&nbsp;&nbsp;</span>for - Schleife: Eine genaue Anzahl von Durchläufen</a></span><ul class=\"toc-item\"><li><span><a href=\"#for-Schleife-mit-Schrittlänge-und-Anfang\" data-toc-modified-id=\"for-Schleife-mit-Schrittlänge-und-Anfang-3.2.3.1\"><span class=\"toc-item-num\">3.2.3.1&nbsp;&nbsp;</span>for-Schleife mit Schrittlänge und Anfang</a></span></li></ul></li><li><span><a href=\"#Übungen-zu-Schleifen\" data-toc-modified-id=\"Übungen-zu-Schleifen-3.2.4\"><span class=\"toc-item-num\">3.2.4&nbsp;&nbsp;</span>Übungen zu Schleifen</a></span></li></ul></li></ul></li><li><span><a href=\"#Listen\" data-toc-modified-id=\"Listen-4\"><span class=\"toc-item-num\">4&nbsp;&nbsp;</span>Listen</a></span><ul class=\"toc-item\"><li><span><a href=\"#Eine-Liste-erstellen\" data-toc-modified-id=\"Eine-Liste-erstellen-4.1\"><span class=\"toc-item-num\">4.1&nbsp;&nbsp;</span>Eine Liste erstellen</a></span></li><li><span><a href=\"#Übungen-zum-Erstellen-und-Durchlaufen-einer-List\" data-toc-modified-id=\"Übungen-zum-Erstellen-und-Durchlaufen-einer-List-4.2\"><span class=\"toc-item-num\">4.2&nbsp;&nbsp;</span>Übungen zum Erstellen und Durchlaufen einer List</a></span><ul class=\"toc-item\"><li><span><a href=\"#Welche-Parameter-hat-ein-Befehl-und-was-kann-man-alles-mit-Strings-machen?\" data-toc-modified-id=\"Welche-Parameter-hat-ein-Befehl-und-was-kann-man-alles-mit-Strings-machen?-4.2.1\"><span class=\"toc-item-num\">4.2.1&nbsp;&nbsp;</span>Welche Parameter hat ein Befehl und was kann man alles mit Strings machen?</a></span></li><li><span><a href=\"#Übung-zu-help(list)\" data-toc-modified-id=\"Übung-zu-help(list)-4.2.2\"><span class=\"toc-item-num\">4.2.2&nbsp;&nbsp;</span>Übung zu help(list)</a></span></li></ul></li><li><span><a href=\"#Erstellen-einer-Liste-mit-pythonischem-Zauber\" data-toc-modified-id=\"Erstellen-einer-Liste-mit-pythonischem-Zauber-4.3\"><span class=\"toc-item-num\">4.3&nbsp;&nbsp;</span>Erstellen einer Liste mit pythonischem Zauber</a></span><ul class=\"toc-item\"><li><span><a href=\"#Übungen-zur-list-comprehension\" data-toc-modified-id=\"Übungen-zur-list-comprehension-4.3.1\"><span class=\"toc-item-num\">4.3.1&nbsp;&nbsp;</span>Übungen zur list comprehension</a></span></li></ul></li><li><span><a href=\"#Indexzugriff-auf-eine-Liste/einen-String-und-der-Sushi-Operator\" data-toc-modified-id=\"Indexzugriff-auf-eine-Liste/einen-String-und-der-Sushi-Operator-4.4\"><span class=\"toc-item-num\">4.4&nbsp;&nbsp;</span>Indexzugriff auf eine Liste/einen String und der Sushi-Operator</a></span><ul class=\"toc-item\"><li><ul class=\"toc-item\"><li><span><a href=\"#Übungen-zum-Indexzugriff\" data-toc-modified-id=\"Übungen-zum-Indexzugriff-4.4.0.1\"><span class=\"toc-item-num\">4.4.0.1&nbsp;&nbsp;</span>Übungen zum Indexzugriff</a></span></li></ul></li></ul></li></ul></li><li><span><a href=\"#Funktionen\" data-toc-modified-id=\"Funktionen-5\"><span class=\"toc-item-num\">5&nbsp;&nbsp;</span>Funktionen</a></span><ul class=\"toc-item\"><li><span><a href=\"#Eine-Funktion-definieren\" data-toc-modified-id=\"Eine-Funktion-definieren-5.1\"><span class=\"toc-item-num\">5.1&nbsp;&nbsp;</span>Eine Funktion definieren</a></span></li><li><span><a href=\"#Übungen-zum-Definieren-von-Funktionen\" data-toc-modified-id=\"Übungen-zum-Definieren-von-Funktionen-5.2\"><span class=\"toc-item-num\">5.2&nbsp;&nbsp;</span>Übungen zum Definieren von Funktionen</a></span></li><li><span><a href=\"#Gedanken-zur-Quersumme\" data-toc-modified-id=\"Gedanken-zur-Quersumme-5.3\"><span class=\"toc-item-num\">5.3&nbsp;&nbsp;</span>Gedanken zur Quersumme</a></span></li></ul></li><li><span><a href=\"#Kleine-Projekte\" data-toc-modified-id=\"Kleine-Projekte-6\"><span class=\"toc-item-num\">6&nbsp;&nbsp;</span>Kleine Projekte</a></span><ul class=\"toc-item\"><li><span><a href=\"#Pallindorome-aus-dem-Internet\" data-toc-modified-id=\"Pallindorome-aus-dem-Internet-6.1\"><span class=\"toc-item-num\">6.1&nbsp;&nbsp;</span>Pallindorome aus dem Internet</a></span></li><li><span><a href=\"#Dein-Name-als-ascii-Art\" data-toc-modified-id=\"Dein-Name-als-ascii-Art-6.2\"><span class=\"toc-item-num\">6.2&nbsp;&nbsp;</span>Dein Name als ascii-Art</a></span></li></ul></li><li><span><a href=\"#Wie-geht-es-weiter?\" data-toc-modified-id=\"Wie-geht-es-weiter?-7\"><span class=\"toc-item-num\">7&nbsp;&nbsp;</span>Wie geht es weiter?</a></span></li></ul></div>"
   ]
  },
  {
   "cell_type": "markdown",
   "id": "299468ad",
   "metadata": {
    "direction": "ltr"
   },
   "source": [
    "# Python von Anfang an\n",
    "Python ist eine Programmiersprache, die alles kann und einiges sogar besonders gut.\n",
    "    <br>Sie gilt als eine der besten Programmierslprachen für Anfänger. Wie die meisten Programmiersprachen unterscheidet sie Gross- und Kleinschreibung.\n",
    "    <br>Ungewöhnlich an ihr ist, daß das Einrücken von Zeilen ein Teil der Sprache ist.\n",
    "    <br> Gewöhne dir von Anfang an an<br>\n",
    "    - Variablen bekommen einen sinnvollen Namen<br>\n",
    "    - Kommentiere dein Programm, indem du Zeilen mit einem # beginnend einfügst.<br>\n",
    "    - Lies dir die Fehlermeldungen sorgfältig durch (zumindest die letzten Zeilen). Mit der Zeit erkennst du deine \"Lieblingsfehler\" auf Anhieb."
   ]
  },
  {
   "cell_type": "markdown",
   "id": "1b3f4c0b",
   "metadata": {},
   "source": [
    "#  Eingabe und Ausgabe\n"
   ]
  },
  {
   "cell_type": "markdown",
   "id": "2c158ec5",
   "metadata": {},
   "source": [
    "## Ausgabe eines Strings (Wort)"
   ]
  },
  {
   "cell_type": "code",
   "execution_count": 2,
   "id": "b25c0b50",
   "metadata": {},
   "outputs": [
    {
     "name": "stdout",
     "output_type": "stream",
     "text": [
      "Hallo Welt\n"
     ]
    }
   ],
   "source": [
    "print(\"Hallo Welt\")"
   ]
  },
  {
   "cell_type": "markdown",
   "id": "9139cc66",
   "metadata": {},
   "source": [
    "## Ausgabe einer Zahl"
   ]
  },
  {
   "cell_type": "code",
   "execution_count": 3,
   "id": "56acc1eb",
   "metadata": {},
   "outputs": [
    {
     "name": "stdout",
     "output_type": "stream",
     "text": [
      "3\n"
     ]
    }
   ],
   "source": [
    "print(3)"
   ]
  },
  {
   "cell_type": "markdown",
   "id": "278cacce",
   "metadata": {},
   "source": [
    "### Ausgabe einer Variablen"
   ]
  },
  {
   "cell_type": "code",
   "execution_count": 4,
   "id": "7dbc3738",
   "metadata": {},
   "outputs": [
    {
     "name": "stdout",
     "output_type": "stream",
     "text": [
      "3\n",
      "Hallo\n"
     ]
    }
   ],
   "source": [
    "zahl = 3\n",
    "print(zahl)\n",
    "\n",
    "wort = \"Hallo\"\n",
    "print(wort)"
   ]
  },
  {
   "cell_type": "markdown",
   "id": "423c008a",
   "metadata": {},
   "source": [
    "### Ausgabe von Text, Zahlen und Variablen zusammen"
   ]
  },
  {
   "cell_type": "code",
   "execution_count": 5,
   "id": "63f48b40",
   "metadata": {},
   "outputs": [
    {
     "name": "stdout",
     "output_type": "stream",
     "text": [
      "Ich habe 1 und 2 Äpfel.\n",
      "Das sind insgesamt 3 Äpfel\n"
     ]
    }
   ],
   "source": [
    "menge1 = 1\n",
    "menge2 = 2\n",
    "obst = \"Äpfel\"\n",
    "print(f\"Ich habe {menge1} und {menge2} {obst}.\\nDas sind insgesamt {menge1 + menge2} {obst}\")\n"
   ]
  },
  {
   "cell_type": "markdown",
   "id": "911589ba",
   "metadata": {},
   "source": [
    "### Eingabe eines Strings"
   ]
  },
  {
   "cell_type": "code",
   "execution_count": 6,
   "id": "cb35c7b4",
   "metadata": {
    "scrolled": true
   },
   "outputs": [
    {
     "name": "stdout",
     "output_type": "stream",
     "text": [
      "Was soll ich ausgeben? \n",
      "7\n",
      "7\n"
     ]
    }
   ],
   "source": [
    "eingabe = input(\"Was soll ich ausgeben? \\n\")\n",
    "print(eingabe)"
   ]
  },
  {
   "cell_type": "markdown",
   "id": "16a65099",
   "metadata": {},
   "source": [
    "### Eingabe einer Zahl"
   ]
  },
  {
   "cell_type": "code",
   "execution_count": 7,
   "id": "abc13851",
   "metadata": {},
   "outputs": [
    {
     "name": "stdout",
     "output_type": "stream",
     "text": [
      "Gib eine Zahl ein: 7\n",
      "Du hast die Zahl 7 eingegeben\n"
     ]
    }
   ],
   "source": [
    "eingabeZahl = int(input(\"Gib eine Zahl ein: \"))\n",
    "print(f\"Du hast die Zahl {eingabeZahl} eingegeben\")"
   ]
  },
  {
   "cell_type": "markdown",
   "id": "ba03827e",
   "metadata": {},
   "source": [
    "### String, Integer und Float"
   ]
  },
  {
   "cell_type": "markdown",
   "id": "c80e5606",
   "metadata": {},
   "source": [
    "Python kennt viele eingebaute Datentypen und Integer und String haben wir schon etwas kennengelernt.\n",
    "Aber was sind Datentypen?\n",
    "<div class=\"alert alert-block alert-info\">\n",
    "Der Datentyp sagt dir, was du mit einem Wert machen kannst.<br>\n",
    "- Zahlen kannst du addieren.<br>\n",
    "- Oh ... Wörter auch! <br>\n",
    "- Zwei Zahlen kannst du miteinander multiplizieren<br>\n",
    "- Ein Wort kannst du gross- oder kleinschreiben - das kannst du aber nicht mit einer Zahl machen<br>\n",
    "- und mit Zahlen, Strings und anderen Datentypen kann man noch viel viel mehr machen.\n",
    "  \n",
    "  \n",
    "</div>\n"
   ]
  },
  {
   "cell_type": "markdown",
   "id": "203b148f",
   "metadata": {},
   "source": [
    "### Rechnen mit Zahlen - Operatoren"
   ]
  },
  {
   "cell_type": "markdown",
   "id": "ff9dd376",
   "metadata": {},
   "source": [
    "<table class=\"ws-table-all notranslate\">\n",
    "<tbody><tr>\n",
    "<th style=\"width:25%\">Operator</th>\n",
    "<th style=\"width:35%\">Name</th>\n",
    "<th style=\"width:30%\">Beispiel</th>\n",
    "\n",
    "</tr>\n",
    "<tr>\n",
    "<td>+</td>\n",
    "<td>Addition</td>\n",
    "<td>x + y</td>\n",
    "<tr>\n",
    "<td>-</td>\n",
    "<td>Subtraktion</td>\n",
    "<td>x - y</td>\n",
    "\n",
    "</tr>\n",
    "<tr>\n",
    "<td>*</td>\n",
    "<td>Multiplikation</td>\n",
    "<td>x * y</td>\n",
    "\n",
    "</tr>\n",
    "<tr>\n",
    "<td>/</td>\n",
    "<td>Division</td>\n",
    "<td>x / y</td>\n",
    "\n",
    "</tr>\n",
    "<tr>\n",
    "<td>%</td>\n",
    "<td>Modulus</td>\n",
    "<td>x % y</td>\n",
    "\n",
    "</tr>\n",
    "  <tr>\n",
    "<td>**</td>\n",
    "<td>Potenzieren</td>\n",
    "<td>x ** y</td>\n",
    "\n",
    "  </tr>\n",
    "<tr>\n",
    "<td>//</td>\n",
    "<td>Ganzzahlteilung</td>\n",
    "<td>x // y</td>\n",
    "\n",
    "</tr>\n",
    "</tbody></table>"
   ]
  },
  {
   "cell_type": "markdown",
   "id": "d995ad9e",
   "metadata": {},
   "source": [
    "### Aufgaben zu Eingabe und Ausgabe von Strings\n",
    "\n",
    "<ul>\n",
    "<li>\n",
    "Begrüßung<br>\n",
    "Lass den User seinen Namen eingeben und begrüße ihn mit Hallo name, also z.B<br>\n",
    "    Hallo Anton</li>\n",
    "\n",
    "<li>\n",
    "      Umwandlung von cm<br>\n",
    "        Lass den User einen Wert in cm eingeben und gib aus wieviele mm, m, dm und km das sind.</li>\n",
    "    <li>Mississippi<br>Deklariere 2 Strings: s1=\"iss\" und s2 = \"pp\".<br>Schreibe nun das Wort Mississippi und benutze die beiden Strings so oft wie möglich<br>print(f\"M{s1}\") ist ein guter Anfang.<7li>\n",
    "        <li>Lass den User zwei Zahlen z1 und z2 eingeben und gib das Ergebnis der Addition, Substraktion und Multiplikation beider Zahlen in ganzen Sätzen aus.<br>Division ist etwas gefährlich!!! <b>LET IT CRASH</b><br>Wie wir den Absturz verhindern, behandeln wir später.</li>\n",
    "<li>\n",
    "    Was ist der Modulus?<br>\n",
    "    Lass den User zwei Zahlen z1,z2 einegeben und berechne den Modulus (z1%z2).\n",
    "    Probiere viele Zahlen aus. Lasse insbesondere die erste Zahl z1 immer gleich und variiere die zweite Zahl.<br>\n",
    "    Wann ist z1 durch z1 teilbar?</li>\n",
    "   \n",
    "</ul>\n"
   ]
  },
  {
   "cell_type": "markdown",
   "id": "24e12d71",
   "metadata": {},
   "source": [
    "# Kontrollstrukturen\n"
   ]
  },
  {
   "cell_type": "markdown",
   "id": "a85ba4c7",
   "metadata": {},
   "source": [
    "## if elif else"
   ]
  },
  {
   "cell_type": "code",
   "execution_count": 8,
   "id": "53d6d15b",
   "metadata": {},
   "outputs": [
    {
     "name": "stdout",
     "output_type": "stream",
     "text": [
      "Gib eine Zahl ein: 7\n",
      "3/7 = 0.42857142857142855\n"
     ]
    }
   ],
   "source": [
    "zahl1 = 3\n",
    "zahl2 = int(input(\"Gib eine Zahl ein: \"))\n",
    "\n",
    "if zahl2 == 0:\n",
    "    print(f\"zahl2 hat den Wert 0, ich kann nicht dividieren\")\n",
    "else:\n",
    "    print(f\"{zahl1}/{zahl2} = {zahl1/zahl2}\")"
   ]
  },
  {
   "cell_type": "code",
   "execution_count": 9,
   "id": "d6585f09",
   "metadata": {},
   "outputs": [
    {
     "name": "stdout",
     "output_type": "stream",
     "text": [
      "Gib eine Zahl ein: 7\n",
      "3/7 = 0.42857142857142855\n"
     ]
    }
   ],
   "source": [
    "zahl1 = 3\n",
    "zahl2 = int(input(\"Gib eine Zahl ein: \"))\n",
    "\n",
    "if zahl2 == 0:\n",
    "    print(f\"Ich kann nicht durch 0 teilen\")\n",
    "elif zahl2 > 1000:\n",
    "    print(f\"So grosse Zahlen mag ich nicht!\")\n",
    "elif zahl2 < -1000:\n",
    "    print(f\"So kleine Zahlen mag ich nicht!\")\n",
    "else:\n",
    "    print(f\"{zahl1}/{zahl2} = {zahl1/zahl2}\")"
   ]
  },
  {
   "cell_type": "markdown",
   "id": "689a91f9",
   "metadata": {},
   "source": [
    "###Vergleichsoperatoren\n",
    "<table class=\"ws-table-all notranslate\">\n",
    "<tbody><tr>\n",
    "<th style=\"width:25%\">Operator</th>\n",
    "<th style=\"width:35%\">Name</th>\n",
    "<th style=\"width:30%\">Beispiel</th>\n",
    "</tr>\n",
    "<tr>\n",
    "<td>==</td>\n",
    "<td>Equal</td>\n",
    "<td>x == y</td>\n",
    "</tr>\n",
    "<tr>\n",
    "<td>!=</td>\n",
    "<td>Not equal</td>\n",
    "<td>x != y</td>\n",
    "</tr>\n",
    "<tr>\n",
    "<td>&gt;</td>\n",
    "<td>Greater than</td>\n",
    "<td>x &gt; y</td>\n",
    "</tr>\n",
    "<tr>\n",
    "<td>&lt;</td>\n",
    "<td>Less than</td>\n",
    "<td>x &lt; y</td>\n",
    "</tr>\n",
    "  <tr>\n",
    "<td>&gt;=</td>\n",
    "<td>Greater than or equal to</td>\n",
    "<td>x &gt;= y</td>\n",
    "  </tr>\n",
    "<tr>\n",
    "<td>&lt;=</td>\n",
    "<td>Less than or equal to</td>\n",
    "<td>x &lt;= y</td>\n",
    "</tr>\n",
    "</tbody></table>"
   ]
  },
  {
   "cell_type": "markdown",
   "id": "d7129346",
   "metadata": {},
   "source": [
    "### Böse Fallen bei der Verzweigung und wie man nicht reintappt (doch - Anfänger tappen immer in diese Fallen)\n",
    "<div class=\"alert alert-block alert-warning\">\n",
    "    <ul>\n",
    "        <li>Nach if, else, elif kommt ein Doppelpunkt</li>\n",
    "        <li>Nach jedem Doppelpunkt kommt eine neue Zeile. Die neue Zeile muss eingerückt werden mit einem Tab.</li>\n",
    "        <li>Nach allen Befehlen, die im if-Fall ausgeführt werden sollen, muss wieder ausgerückt werden(Shift + Tab).</li>\n",
    "        <li>Kommentiere dein Programm ausführlich - eine Zeile, die mit # anfängt, ist ein Kommentar!\n",
    "        <li>Ein Lineal hilft manchmal</li>\n",
    "</div>"
   ]
  },
  {
   "cell_type": "markdown",
   "id": "060b0b4d",
   "metadata": {},
   "source": [
    "#### Übungen zu Verzweigungen\n",
    "- Taschenrechner<br>\n",
    "Lass den User zwei Zahlen z1 und z2 und einen Rechenoperator eingeben und gib das Ergebnis aus.<br>\n",
    "Beispiel Eingabe z1 = 1, z2 = 2, op = \"+\"<br>\n",
    "Ausgabe 1 + 2 = 3<br>\n",
    "\n",
    "- Primzahlen<br>\n",
    "Lass den User eine Zahl zwischen 2 und 100 ausgeben.<br>\n",
    "Die Zahl ist eine Primzahl, wenn sie durch mindestens eine der Zahlen aus [2,3,5,7] teilbar ist.<br>\n",
    "Gib aus, ob die Zahl eine Primzahl ist.<br>\n",
    "<code>\n",
    "    zahl = int(input(\"Gib eine Zahl ein: \"))\n",
    "    if zahl > 100:\n",
    "        # Hier wird eingerückt\n",
    "        print(\"zu hoch\")\n",
    "    # der elif gehört zum if... wieder ausrücken\n",
    "    elif zahl <  2:\n",
    "        print(\"zu klein\")\n",
    "    else:\n",
    "        if zahl%2 == 0:\n",
    "                # hier verschachteln wir - nochmal einrücken\n",
    "                print(\"Keine Primzahl\")\n",
    "        # Hier wieder EINEN ausrücken\n",
    "        elif zahl%3 == 0:\n",
    "                  # ab hier bist du dran\n",
    "                  </code>"
   ]
  },
  {
   "cell_type": "markdown",
   "id": "385c5add",
   "metadata": {},
   "source": [
    "## Schleifen"
   ]
  },
  {
   "cell_type": "markdown",
   "id": "b306271e",
   "metadata": {},
   "source": [
    "### while-Schleife :  Solange eine Ausdruck wahr ist"
   ]
  },
  {
   "cell_type": "code",
   "execution_count": 10,
   "id": "d9b83d15",
   "metadata": {},
   "outputs": [
    {
     "name": "stdout",
     "output_type": "stream",
     "text": [
      "0 1 2 3 4 5 6 7 8 9 "
     ]
    }
   ],
   "source": [
    "i = 0\n",
    "while i < 10:\n",
    "    print(i, end = \" \")\n",
    "    i+=1"
   ]
  },
  {
   "cell_type": "markdown",
   "id": "683f9293",
   "metadata": {},
   "source": [
    "### Zuweisungsoperatoren\n",
    "<table class=\"ws-table-all notranslate\">\n",
    "<tbody><tr>\n",
    "<th style=\"width:25%\">Operator</th>\n",
    "<th style=\"width:20%\">Beispiel</th>\n",
    "<th style=\"width:20%\">Same As</th>\n",
    "\n",
    "</tr>\n",
    "<tr>\n",
    "<td>=</td>\n",
    "<td>x = 5</td>\n",
    "<td>x = 5</td>\n",
    "</tr>\n",
    "  <tr>\n",
    "<td>+=</td>\n",
    "<td>x += 3</td>\n",
    "<td>x = x + 3</td>\n",
    "  </tr>\n",
    "  <tr>\n",
    "<td>-=</td>\n",
    "<td>x -= 3</td>\n",
    "<td>x = x - 3</td>\n",
    "  </tr>\n",
    "  <tr>\n",
    "<td>*=</td>\n",
    "<td>x *= 3</td>\n",
    "<td>x = x * 3</td>\n",
    "  </tr>\n",
    "  <tr>\n",
    "<td>/=</td>\n",
    "<td>x /= 3</td>\n",
    "<td>x = x / 3</td>\n",
    "  </tr>\n",
    "  <tr>\n",
    "<td>%=</td>\n",
    "<td>x %= 3</td>\n",
    "<td>x = x % 3</td>\n",
    "  </tr>\n",
    "  <tr>\n",
    "<td>//=</td>\n",
    "<td>x //= 3</td>\n",
    "<td>x = x // 3</td>\n",
    "  </tr>\n",
    "  <tr>\n",
    "<td>**=</td>\n",
    "<td>x **= 3</td>\n",
    "<td>x = x ** 3</td>\n",
    "  </tr>\n",
    "\n",
    "\n",
    "</tbody></table>"
   ]
  },
  {
   "cell_type": "markdown",
   "id": "90d1d437",
   "metadata": {},
   "source": [
    "### for - Schleife: Eine genaue Anzahl von Durchläufen"
   ]
  },
  {
   "cell_type": "code",
   "execution_count": 11,
   "id": "0b93959e",
   "metadata": {},
   "outputs": [
    {
     "name": "stdout",
     "output_type": "stream",
     "text": [
      "0 1 2 3 4 5 6 7 8 9 "
     ]
    }
   ],
   "source": [
    "# Für jede Zahl von i wird eine Schleife gedreht\n",
    "# i sagt, in der wievielten Schleife wir gerade sind.\n",
    "# Die letzte Zahl (also hier die 10 )  wird nicht bearbeitet \n",
    "for i in range(10):\n",
    "    print(i, end = \" \")"
   ]
  },
  {
   "cell_type": "markdown",
   "id": "f8038973",
   "metadata": {},
   "source": [
    "#### for-Schleife mit Schrittlänge und Anfang\n"
   ]
  },
  {
   "cell_type": "code",
   "execution_count": 12,
   "id": "b1291062",
   "metadata": {},
   "outputs": [
    {
     "name": "stdout",
     "output_type": "stream",
     "text": [
      "100 105 110 115 120 125 130 135 140 145 150 155 160 165 170 175 180 185 190 195 "
     ]
    }
   ],
   "source": [
    "# Nimm die Zahlen von 100 bis 200 und davon immer jede 5.Zahl\n",
    "for i in range(100,200,5):\n",
    "    print(i, end = \" \")\n",
    "    "
   ]
  },
  {
   "cell_type": "markdown",
   "id": "d07db0e9",
   "metadata": {},
   "source": [
    "### Übungen zu Schleifen\n",
    "\n",
    "- Eingabe<br>\n",
    "Setze z1 auf 1000 und lass den User solange eine Zahl z1 eingeben, bis die Zahl < 100 ist.<br>\n",
    "- Schreibe das Programm für Bart Simpson<br>\n",
    "Er muss es 100 mal schreiben\n",
    "<img src = \"https://i.pinimg.com/originals/a0/d4/81/a0d481b65c34d34bfa3921f5c3be0916.jpg\"><br>\n",
    "- Gib alle Zahlen von 1 bis 100 aus, die durch 3 teilbar sind.<br>\n",
    "Nimm dazu die for-Schleife mit einem geeigneten Anfang und einer geeigneten Schrittweite<br>\n",
    "- Male folgendes Muster:<br>\n",
    "\n",
    "+<br>\n",
    "++<br>\n",
    "+++<br>\n",
    "++++<br>\n",
    "+++++<br>\n",
    "\n",
    "\n",
    "Hinweis: Nutze dazu die for-Schleife und den \"Trick\"<code>\n",
    "    print(f\"{3*'+'}\")</code>\n",
    "    <b> ohhhhhh siehst du die verschachtelten Anführungszeichen? Das äußere Paar sind doppelte Anführungszeichen und das innere Paar für das Plus sind einfache Anführingszeichen. </b>\n",
    "- Male auch dieses Muster:<br>\n",
    "Auch hier gibt es einen nützlichen Trick:<br>\n",
    "Am besten du schaust dir unten das Beispiel für ein Muster an.\n",
    "<img src = \"https://i.ytimg.com/vi/M7Gn2L1iGNg/maxresdefault.jpg\">\n",
    "- Das Programm ist das Spiel \"Guess the number\". Es ist noch nicht fertig.<br>\n",
    "Kopiere das Programm und ersetze die Fragezeichen durch sinnvollen Code.<br>\n",
    "Füge zusaätzlich in das Programm einen Zähler ein, der die Anzahl der Versuche zählt.<br>Gib am Ende die Anzahl der Versuche aus.<br>\n",
    "Verbessere die Ausgabe indem du die eingegebene Zahl mit ausgibst: Die Zahl 780 ist zu klein.\n",
    "<br>Nutze dazu <code> print(f\"{}\")</code>.<br>\n",
    "<br>Ist die viel zu groß oder viel zu klein (mehr als 100 entfernt), dann gib z.B aus:\n",
    "<br>Die Zahl 123 ist viel zu klein"
   ]
  },
  {
   "cell_type": "code",
   "execution_count": 14,
   "id": "b2f520ae",
   "metadata": {},
   "outputs": [
    {
     "ename": "SyntaxError",
     "evalue": "invalid syntax (<ipython-input-14-283847f144ae>, line 7)",
     "output_type": "error",
     "traceback": [
      "\u001b[1;36m  File \u001b[1;32m\"<ipython-input-14-283847f144ae>\"\u001b[1;36m, line \u001b[1;32m7\u001b[0m\n\u001b[1;33m    while guess != ??? :\u001b[0m\n\u001b[1;37m                   ^\u001b[0m\n\u001b[1;31mSyntaxError\u001b[0m\u001b[1;31m:\u001b[0m invalid syntax\n"
     ]
    }
   ],
   "source": [
    "from random import randint\n",
    "# Der Computer wählt eine zufällige Zahl von 1 bis 1000\n",
    "zufallszahl = randint(1,1000)\n",
    "\n",
    "guess = 0\n",
    "\n",
    "while guess != ??? :\n",
    "    guess = int(input(\"???\"))\n",
    "    if guess ??? zufallszahl:\n",
    "        print(\"Die Zahl ist zu gross\")\n",
    "    elif guess ??? zufallszahl:\n",
    "        print(\"zu klein\")\n",
    "    else:\n",
    "        print(\"ja\")\n",
    "\n"
   ]
  },
  {
   "cell_type": "code",
   "execution_count": 15,
   "id": "8d28777e",
   "metadata": {},
   "outputs": [
    {
     "name": "stdout",
     "output_type": "stream",
     "text": [
      "                   *                    \n",
      "                  ***                   \n",
      "                 *****                  \n",
      "                *******                 \n"
     ]
    }
   ],
   "source": [
    "for i in range(1,8,2):\n",
    "    print(f\"{'*'*(i)}\".center(40))"
   ]
  },
  {
   "cell_type": "markdown",
   "id": "fd1652bc",
   "metadata": {},
   "source": [
    "# Listen\n",
    "Zahlen oder Wörter oder auch alle Objekte, die zusammengehören, kann man in eine Liste schreiben.<br>\n",
    "Das macht das Programmieren viel einfacher.\n",
    "Diese Herrschaften z.B möchten gerne alle gefüttert werden. \n",
    "Die Idee der Liste ist: \n",
    "<code>\n",
    "    for Vogel in Reihe:\n",
    "       füttere(Vogel)\n",
    "</code>\n",
    "<img src=\"https://www.woodlandtrust.org.uk/media/1451/swallow-young-in-nest-14-days-old-alamy-brad2n-ernie-janes.jpg?center=0.3935483870967742\">"
   ]
  },
  {
   "cell_type": "markdown",
   "id": "4ed4d038",
   "metadata": {},
   "source": [
    "## Eine Liste erstellen\n",
    "Es gibt viele Möglichkeiten, eine Liste zu erstellen. Eine dieser Möglichkeiten ist einfach, die Elemente der Liste aufzustellen. Die andere Möglichkeit ist, die Liste zu beschreiben. \n"
   ]
  },
  {
   "cell_type": "code",
   "execution_count": 16,
   "id": "dd5f5520",
   "metadata": {},
   "outputs": [
    {
     "name": "stdout",
     "output_type": "stream",
     "text": [
      "Jetzt wird Anton gefüttert\n",
      "Jetzt wird Bertha gefüttert\n",
      "Jetzt wird Carl gefüttert\n",
      "Jetzt wird Dickie gefüttert\n",
      "Jetzt wird Ede gefüttert\n"
     ]
    }
   ],
   "source": [
    "voegel = [\"Anton\",\"Bertha\",\"Carl\",\"Dickie\",\"Ede\"]\n",
    "# Das aktuelle Element nenne ich vogel. Ich kann es aber auch x,y,z,... irgendwie benennen.\n",
    "for vogel in voegel:\n",
    "    print(f\"Jetzt wird {vogel} gefüttert\")"
   ]
  },
  {
   "cell_type": "markdown",
   "id": "37c4be0a",
   "metadata": {},
   "source": [
    "## Übungen zum Erstellen und Durchlaufen einer List\n",
    "- Erstelle eine Liste Zahlen, die alle geraden Zahlen von 2 bis 10 enthält und gib von allen Zahlen die Hälfte aus.<br>\n",
    "- Erstelle eine Liste, die alle Buchstaben deines Namens enthält und gib jeden Buchstabe aus.<br>\n",
    "<b> Oh Mist! Jeder Buchstabe ist in einer Reihe! Der print-Befehl setzt am Ende immer einen Zeilenumbruch. Das kann man aber ändern, indem man dem print-Befehl sagt, welches Zeichen er am Ende setzen soll (In diesem Fall ein leeres Zeichen - also \"\").<br></b>\n",
    "    <code> \n",
    "        print(\"r\", end = \"\")\n",
    "        print(\"o\")\n",
    "    </code>"
   ]
  },
  {
   "cell_type": "markdown",
   "id": "1eec471d",
   "metadata": {},
   "source": [
    "### Welche Parameter hat ein Befehl und was kann man alles mit Strings machen?\n",
    "<div class=\"alert alert-block alert-success\">\n",
    " Jetzt habe ich dir immer mal wieder irgendwelche Sachen untergeschoben, wie z.B den Parameter \"end\" für den Print-Befehl. Das muss man aber am Anfang noch gar nicht alles können. Und auch später nicht. Du kannst immer googeln, wenn du etwas möchtest (google doch mal, wie man beim print keinen Zeilenumbruch bekommt). Professionelle Programmierer googeln oft mindestens eine Stunde pro Tag.\n",
    "Noch besser ist es aber, wenn du dir einen Überblick über die Möglichkeiten eines Befehls verschaffst. Und das kannst du ohne zu googlen.<br>\n",
    "Mit dem Befehl help werden erstmal viele Dinge erklärt. Scrolle am Anfang einfach mal runter, bist alles mit den doppelten Unterstrichen erledigt ist. Danach kommt der für dich interessantere Teil.\n",
    "<code>\n",
    "    # Hilfe für einen Befehl (eine Funktion)\n",
    "    help(print)\n",
    "    # Hilfe für einen String\n",
    "    help(str)\n",
    "    # Hilfe für eine Liste\n",
    "    help(list)\n",
    "</code><br>\n",
    "    \n",
    "    \n",
    " \n",
    "</div>"
   ]
  },
  {
   "cell_type": "code",
   "execution_count": 17,
   "id": "115547a4",
   "metadata": {},
   "outputs": [
    {
     "name": "stdout",
     "output_type": "stream",
     "text": [
      "Help on built-in function print in module builtins:\n",
      "\n",
      "print(...)\n",
      "    print(value, ..., sep=' ', end='\\n', file=sys.stdout, flush=False)\n",
      "    \n",
      "    Prints the values to a stream, or to sys.stdout by default.\n",
      "    Optional keyword arguments:\n",
      "    file:  a file-like object (stream); defaults to the current sys.stdout.\n",
      "    sep:   string inserted between values, default a space.\n",
      "    end:   string appended after the last value, default a newline.\n",
      "    flush: whether to forcibly flush the stream.\n",
      "\n"
     ]
    }
   ],
   "source": [
    "help(print)"
   ]
  },
  {
   "cell_type": "code",
   "execution_count": 18,
   "id": "6e2415f2",
   "metadata": {},
   "outputs": [
    {
     "name": "stdout",
     "output_type": "stream",
     "text": [
      "Help on class str in module builtins:\n",
      "\n",
      "class str(object)\n",
      " |  str(object='') -> str\n",
      " |  str(bytes_or_buffer[, encoding[, errors]]) -> str\n",
      " |  \n",
      " |  Create a new string object from the given object. If encoding or\n",
      " |  errors is specified, then the object must expose a data buffer\n",
      " |  that will be decoded using the given encoding and error handler.\n",
      " |  Otherwise, returns the result of object.__str__() (if defined)\n",
      " |  or repr(object).\n",
      " |  encoding defaults to sys.getdefaultencoding().\n",
      " |  errors defaults to 'strict'.\n",
      " |  \n",
      " |  Methods defined here:\n",
      " |  \n",
      " |  __add__(self, value, /)\n",
      " |      Return self+value.\n",
      " |  \n",
      " |  __contains__(self, key, /)\n",
      " |      Return key in self.\n",
      " |  \n",
      " |  __eq__(self, value, /)\n",
      " |      Return self==value.\n",
      " |  \n",
      " |  __format__(self, format_spec, /)\n",
      " |      Return a formatted version of the string as described by format_spec.\n",
      " |  \n",
      " |  __ge__(self, value, /)\n",
      " |      Return self>=value.\n",
      " |  \n",
      " |  __getattribute__(self, name, /)\n",
      " |      Return getattr(self, name).\n",
      " |  \n",
      " |  __getitem__(self, key, /)\n",
      " |      Return self[key].\n",
      " |  \n",
      " |  __getnewargs__(...)\n",
      " |  \n",
      " |  __gt__(self, value, /)\n",
      " |      Return self>value.\n",
      " |  \n",
      " |  __hash__(self, /)\n",
      " |      Return hash(self).\n",
      " |  \n",
      " |  __iter__(self, /)\n",
      " |      Implement iter(self).\n",
      " |  \n",
      " |  __le__(self, value, /)\n",
      " |      Return self<=value.\n",
      " |  \n",
      " |  __len__(self, /)\n",
      " |      Return len(self).\n",
      " |  \n",
      " |  __lt__(self, value, /)\n",
      " |      Return self<value.\n",
      " |  \n",
      " |  __mod__(self, value, /)\n",
      " |      Return self%value.\n",
      " |  \n",
      " |  __mul__(self, value, /)\n",
      " |      Return self*value.\n",
      " |  \n",
      " |  __ne__(self, value, /)\n",
      " |      Return self!=value.\n",
      " |  \n",
      " |  __repr__(self, /)\n",
      " |      Return repr(self).\n",
      " |  \n",
      " |  __rmod__(self, value, /)\n",
      " |      Return value%self.\n",
      " |  \n",
      " |  __rmul__(self, value, /)\n",
      " |      Return value*self.\n",
      " |  \n",
      " |  __sizeof__(self, /)\n",
      " |      Return the size of the string in memory, in bytes.\n",
      " |  \n",
      " |  __str__(self, /)\n",
      " |      Return str(self).\n",
      " |  \n",
      " |  capitalize(self, /)\n",
      " |      Return a capitalized version of the string.\n",
      " |      \n",
      " |      More specifically, make the first character have upper case and the rest lower\n",
      " |      case.\n",
      " |  \n",
      " |  casefold(self, /)\n",
      " |      Return a version of the string suitable for caseless comparisons.\n",
      " |  \n",
      " |  center(self, width, fillchar=' ', /)\n",
      " |      Return a centered string of length width.\n",
      " |      \n",
      " |      Padding is done using the specified fill character (default is a space).\n",
      " |  \n",
      " |  count(...)\n",
      " |      S.count(sub[, start[, end]]) -> int\n",
      " |      \n",
      " |      Return the number of non-overlapping occurrences of substring sub in\n",
      " |      string S[start:end].  Optional arguments start and end are\n",
      " |      interpreted as in slice notation.\n",
      " |  \n",
      " |  encode(self, /, encoding='utf-8', errors='strict')\n",
      " |      Encode the string using the codec registered for encoding.\n",
      " |      \n",
      " |      encoding\n",
      " |        The encoding in which to encode the string.\n",
      " |      errors\n",
      " |        The error handling scheme to use for encoding errors.\n",
      " |        The default is 'strict' meaning that encoding errors raise a\n",
      " |        UnicodeEncodeError.  Other possible values are 'ignore', 'replace' and\n",
      " |        'xmlcharrefreplace' as well as any other name registered with\n",
      " |        codecs.register_error that can handle UnicodeEncodeErrors.\n",
      " |  \n",
      " |  endswith(...)\n",
      " |      S.endswith(suffix[, start[, end]]) -> bool\n",
      " |      \n",
      " |      Return True if S ends with the specified suffix, False otherwise.\n",
      " |      With optional start, test S beginning at that position.\n",
      " |      With optional end, stop comparing S at that position.\n",
      " |      suffix can also be a tuple of strings to try.\n",
      " |  \n",
      " |  expandtabs(self, /, tabsize=8)\n",
      " |      Return a copy where all tab characters are expanded using spaces.\n",
      " |      \n",
      " |      If tabsize is not given, a tab size of 8 characters is assumed.\n",
      " |  \n",
      " |  find(...)\n",
      " |      S.find(sub[, start[, end]]) -> int\n",
      " |      \n",
      " |      Return the lowest index in S where substring sub is found,\n",
      " |      such that sub is contained within S[start:end].  Optional\n",
      " |      arguments start and end are interpreted as in slice notation.\n",
      " |      \n",
      " |      Return -1 on failure.\n",
      " |  \n",
      " |  format(...)\n",
      " |      S.format(*args, **kwargs) -> str\n",
      " |      \n",
      " |      Return a formatted version of S, using substitutions from args and kwargs.\n",
      " |      The substitutions are identified by braces ('{' and '}').\n",
      " |  \n",
      " |  format_map(...)\n",
      " |      S.format_map(mapping) -> str\n",
      " |      \n",
      " |      Return a formatted version of S, using substitutions from mapping.\n",
      " |      The substitutions are identified by braces ('{' and '}').\n",
      " |  \n",
      " |  index(...)\n",
      " |      S.index(sub[, start[, end]]) -> int\n",
      " |      \n",
      " |      Return the lowest index in S where substring sub is found,\n",
      " |      such that sub is contained within S[start:end].  Optional\n",
      " |      arguments start and end are interpreted as in slice notation.\n",
      " |      \n",
      " |      Raises ValueError when the substring is not found.\n",
      " |  \n",
      " |  isalnum(self, /)\n",
      " |      Return True if the string is an alpha-numeric string, False otherwise.\n",
      " |      \n",
      " |      A string is alpha-numeric if all characters in the string are alpha-numeric and\n",
      " |      there is at least one character in the string.\n",
      " |  \n",
      " |  isalpha(self, /)\n",
      " |      Return True if the string is an alphabetic string, False otherwise.\n",
      " |      \n",
      " |      A string is alphabetic if all characters in the string are alphabetic and there\n",
      " |      is at least one character in the string.\n",
      " |  \n",
      " |  isascii(self, /)\n",
      " |      Return True if all characters in the string are ASCII, False otherwise.\n",
      " |      \n",
      " |      ASCII characters have code points in the range U+0000-U+007F.\n",
      " |      Empty string is ASCII too.\n",
      " |  \n",
      " |  isdecimal(self, /)\n",
      " |      Return True if the string is a decimal string, False otherwise.\n",
      " |      \n",
      " |      A string is a decimal string if all characters in the string are decimal and\n",
      " |      there is at least one character in the string.\n",
      " |  \n",
      " |  isdigit(self, /)\n",
      " |      Return True if the string is a digit string, False otherwise.\n",
      " |      \n",
      " |      A string is a digit string if all characters in the string are digits and there\n",
      " |      is at least one character in the string.\n",
      " |  \n",
      " |  isidentifier(self, /)\n",
      " |      Return True if the string is a valid Python identifier, False otherwise.\n",
      " |      \n",
      " |      Call keyword.iskeyword(s) to test whether string s is a reserved identifier,\n",
      " |      such as \"def\" or \"class\".\n",
      " |  \n",
      " |  islower(self, /)\n",
      " |      Return True if the string is a lowercase string, False otherwise.\n",
      " |      \n",
      " |      A string is lowercase if all cased characters in the string are lowercase and\n",
      " |      there is at least one cased character in the string.\n",
      " |  \n",
      " |  isnumeric(self, /)\n",
      " |      Return True if the string is a numeric string, False otherwise.\n",
      " |      \n",
      " |      A string is numeric if all characters in the string are numeric and there is at\n",
      " |      least one character in the string.\n",
      " |  \n",
      " |  isprintable(self, /)\n",
      " |      Return True if the string is printable, False otherwise.\n",
      " |      \n",
      " |      A string is printable if all of its characters are considered printable in\n",
      " |      repr() or if it is empty.\n",
      " |  \n",
      " |  isspace(self, /)\n",
      " |      Return True if the string is a whitespace string, False otherwise.\n",
      " |      \n",
      " |      A string is whitespace if all characters in the string are whitespace and there\n",
      " |      is at least one character in the string.\n",
      " |  \n",
      " |  istitle(self, /)\n",
      " |      Return True if the string is a title-cased string, False otherwise.\n",
      " |      \n",
      " |      In a title-cased string, upper- and title-case characters may only\n",
      " |      follow uncased characters and lowercase characters only cased ones.\n",
      " |  \n",
      " |  isupper(self, /)\n",
      " |      Return True if the string is an uppercase string, False otherwise.\n",
      " |      \n",
      " |      A string is uppercase if all cased characters in the string are uppercase and\n",
      " |      there is at least one cased character in the string.\n",
      " |  \n",
      " |  join(self, iterable, /)\n",
      " |      Concatenate any number of strings.\n",
      " |      \n",
      " |      The string whose method is called is inserted in between each given string.\n",
      " |      The result is returned as a new string.\n",
      " |      \n",
      " |      Example: '.'.join(['ab', 'pq', 'rs']) -> 'ab.pq.rs'\n",
      " |  \n",
      " |  ljust(self, width, fillchar=' ', /)\n",
      " |      Return a left-justified string of length width.\n",
      " |      \n",
      " |      Padding is done using the specified fill character (default is a space).\n",
      " |  \n",
      " |  lower(self, /)\n",
      " |      Return a copy of the string converted to lowercase.\n",
      " |  \n",
      " |  lstrip(self, chars=None, /)\n",
      " |      Return a copy of the string with leading whitespace removed.\n",
      " |      \n",
      " |      If chars is given and not None, remove characters in chars instead.\n",
      " |  \n",
      " |  partition(self, sep, /)\n",
      " |      Partition the string into three parts using the given separator.\n",
      " |      \n",
      " |      This will search for the separator in the string.  If the separator is found,\n",
      " |      returns a 3-tuple containing the part before the separator, the separator\n",
      " |      itself, and the part after it.\n",
      " |      \n",
      " |      If the separator is not found, returns a 3-tuple containing the original string\n",
      " |      and two empty strings.\n",
      " |  \n",
      " |  removeprefix(self, prefix, /)\n",
      " |      Return a str with the given prefix string removed if present.\n",
      " |      \n",
      " |      If the string starts with the prefix string, return string[len(prefix):].\n",
      " |      Otherwise, return a copy of the original string.\n",
      " |  \n",
      " |  removesuffix(self, suffix, /)\n",
      " |      Return a str with the given suffix string removed if present.\n",
      " |      \n",
      " |      If the string ends with the suffix string and that suffix is not empty,\n",
      " |      return string[:-len(suffix)]. Otherwise, return a copy of the original\n",
      " |      string.\n",
      " |  \n",
      " |  replace(self, old, new, count=-1, /)\n",
      " |      Return a copy with all occurrences of substring old replaced by new.\n",
      " |      \n",
      " |        count\n",
      " |          Maximum number of occurrences to replace.\n",
      " |          -1 (the default value) means replace all occurrences.\n",
      " |      \n",
      " |      If the optional argument count is given, only the first count occurrences are\n",
      " |      replaced.\n",
      " |  \n",
      " |  rfind(...)\n",
      " |      S.rfind(sub[, start[, end]]) -> int\n",
      " |      \n",
      " |      Return the highest index in S where substring sub is found,\n",
      " |      such that sub is contained within S[start:end].  Optional\n",
      " |      arguments start and end are interpreted as in slice notation.\n",
      " |      \n",
      " |      Return -1 on failure.\n",
      " |  \n",
      " |  rindex(...)\n",
      " |      S.rindex(sub[, start[, end]]) -> int\n",
      " |      \n",
      " |      Return the highest index in S where substring sub is found,\n",
      " |      such that sub is contained within S[start:end].  Optional\n",
      " |      arguments start and end are interpreted as in slice notation.\n",
      " |      \n",
      " |      Raises ValueError when the substring is not found.\n",
      " |  \n",
      " |  rjust(self, width, fillchar=' ', /)\n",
      " |      Return a right-justified string of length width.\n",
      " |      \n",
      " |      Padding is done using the specified fill character (default is a space).\n",
      " |  \n",
      " |  rpartition(self, sep, /)\n",
      " |      Partition the string into three parts using the given separator.\n",
      " |      \n",
      " |      This will search for the separator in the string, starting at the end. If\n",
      " |      the separator is found, returns a 3-tuple containing the part before the\n",
      " |      separator, the separator itself, and the part after it.\n",
      " |      \n",
      " |      If the separator is not found, returns a 3-tuple containing two empty strings\n",
      " |      and the original string.\n",
      " |  \n",
      " |  rsplit(self, /, sep=None, maxsplit=-1)\n",
      " |      Return a list of the words in the string, using sep as the delimiter string.\n",
      " |      \n",
      " |        sep\n",
      " |          The delimiter according which to split the string.\n",
      " |          None (the default value) means split according to any whitespace,\n",
      " |          and discard empty strings from the result.\n",
      " |        maxsplit\n",
      " |          Maximum number of splits to do.\n",
      " |          -1 (the default value) means no limit.\n",
      " |      \n",
      " |      Splits are done starting at the end of the string and working to the front.\n",
      " |  \n",
      " |  rstrip(self, chars=None, /)\n",
      " |      Return a copy of the string with trailing whitespace removed.\n",
      " |      \n",
      " |      If chars is given and not None, remove characters in chars instead.\n",
      " |  \n",
      " |  split(self, /, sep=None, maxsplit=-1)\n",
      " |      Return a list of the words in the string, using sep as the delimiter string.\n",
      " |      \n",
      " |      sep\n",
      " |        The delimiter according which to split the string.\n",
      " |        None (the default value) means split according to any whitespace,\n",
      " |        and discard empty strings from the result.\n",
      " |      maxsplit\n",
      " |        Maximum number of splits to do.\n",
      " |        -1 (the default value) means no limit.\n",
      " |  \n",
      " |  splitlines(self, /, keepends=False)\n",
      " |      Return a list of the lines in the string, breaking at line boundaries.\n",
      " |      \n",
      " |      Line breaks are not included in the resulting list unless keepends is given and\n",
      " |      true.\n",
      " |  \n",
      " |  startswith(...)\n",
      " |      S.startswith(prefix[, start[, end]]) -> bool\n",
      " |      \n",
      " |      Return True if S starts with the specified prefix, False otherwise.\n",
      " |      With optional start, test S beginning at that position.\n",
      " |      With optional end, stop comparing S at that position.\n",
      " |      prefix can also be a tuple of strings to try.\n",
      " |  \n",
      " |  strip(self, chars=None, /)\n",
      " |      Return a copy of the string with leading and trailing whitespace removed.\n",
      " |      \n",
      " |      If chars is given and not None, remove characters in chars instead.\n",
      " |  \n",
      " |  swapcase(self, /)\n",
      " |      Convert uppercase characters to lowercase and lowercase characters to uppercase.\n",
      " |  \n",
      " |  title(self, /)\n",
      " |      Return a version of the string where each word is titlecased.\n",
      " |      \n",
      " |      More specifically, words start with uppercased characters and all remaining\n",
      " |      cased characters have lower case.\n",
      " |  \n",
      " |  translate(self, table, /)\n",
      " |      Replace each character in the string using the given translation table.\n",
      " |      \n",
      " |        table\n",
      " |          Translation table, which must be a mapping of Unicode ordinals to\n",
      " |          Unicode ordinals, strings, or None.\n",
      " |      \n",
      " |      The table must implement lookup/indexing via __getitem__, for instance a\n",
      " |      dictionary or list.  If this operation raises LookupError, the character is\n",
      " |      left untouched.  Characters mapped to None are deleted.\n",
      " |  \n",
      " |  upper(self, /)\n",
      " |      Return a copy of the string converted to uppercase.\n",
      " |  \n",
      " |  zfill(self, width, /)\n",
      " |      Pad a numeric string with zeros on the left, to fill a field of the given width.\n",
      " |      \n",
      " |      The string is never truncated.\n",
      " |  \n",
      " |  ----------------------------------------------------------------------\n",
      " |  Static methods defined here:\n",
      " |  \n",
      " |  __new__(*args, **kwargs) from builtins.type\n",
      " |      Create and return a new object.  See help(type) for accurate signature.\n",
      " |  \n",
      " |  maketrans(...)\n",
      " |      Return a translation table usable for str.translate().\n",
      " |      \n",
      " |      If there is only one argument, it must be a dictionary mapping Unicode\n",
      " |      ordinals (integers) or characters to Unicode ordinals, strings or None.\n",
      " |      Character keys will be then converted to ordinals.\n",
      " |      If there are two arguments, they must be strings of equal length, and\n",
      " |      in the resulting dictionary, each character in x will be mapped to the\n",
      " |      character at the same position in y. If there is a third argument, it\n",
      " |      must be a string, whose characters will be mapped to None in the result.\n",
      "\n"
     ]
    }
   ],
   "source": [
    "help(str)"
   ]
  },
  {
   "cell_type": "code",
   "execution_count": 19,
   "id": "85dcbb8b",
   "metadata": {},
   "outputs": [
    {
     "name": "stdout",
     "output_type": "stream",
     "text": [
      "Help on class list in module builtins:\n",
      "\n",
      "class list(object)\n",
      " |  list(iterable=(), /)\n",
      " |  \n",
      " |  Built-in mutable sequence.\n",
      " |  \n",
      " |  If no argument is given, the constructor creates a new empty list.\n",
      " |  The argument must be an iterable if specified.\n",
      " |  \n",
      " |  Methods defined here:\n",
      " |  \n",
      " |  __add__(self, value, /)\n",
      " |      Return self+value.\n",
      " |  \n",
      " |  __contains__(self, key, /)\n",
      " |      Return key in self.\n",
      " |  \n",
      " |  __delitem__(self, key, /)\n",
      " |      Delete self[key].\n",
      " |  \n",
      " |  __eq__(self, value, /)\n",
      " |      Return self==value.\n",
      " |  \n",
      " |  __ge__(self, value, /)\n",
      " |      Return self>=value.\n",
      " |  \n",
      " |  __getattribute__(self, name, /)\n",
      " |      Return getattr(self, name).\n",
      " |  \n",
      " |  __getitem__(...)\n",
      " |      x.__getitem__(y) <==> x[y]\n",
      " |  \n",
      " |  __gt__(self, value, /)\n",
      " |      Return self>value.\n",
      " |  \n",
      " |  __iadd__(self, value, /)\n",
      " |      Implement self+=value.\n",
      " |  \n",
      " |  __imul__(self, value, /)\n",
      " |      Implement self*=value.\n",
      " |  \n",
      " |  __init__(self, /, *args, **kwargs)\n",
      " |      Initialize self.  See help(type(self)) for accurate signature.\n",
      " |  \n",
      " |  __iter__(self, /)\n",
      " |      Implement iter(self).\n",
      " |  \n",
      " |  __le__(self, value, /)\n",
      " |      Return self<=value.\n",
      " |  \n",
      " |  __len__(self, /)\n",
      " |      Return len(self).\n",
      " |  \n",
      " |  __lt__(self, value, /)\n",
      " |      Return self<value.\n",
      " |  \n",
      " |  __mul__(self, value, /)\n",
      " |      Return self*value.\n",
      " |  \n",
      " |  __ne__(self, value, /)\n",
      " |      Return self!=value.\n",
      " |  \n",
      " |  __repr__(self, /)\n",
      " |      Return repr(self).\n",
      " |  \n",
      " |  __reversed__(self, /)\n",
      " |      Return a reverse iterator over the list.\n",
      " |  \n",
      " |  __rmul__(self, value, /)\n",
      " |      Return value*self.\n",
      " |  \n",
      " |  __setitem__(self, key, value, /)\n",
      " |      Set self[key] to value.\n",
      " |  \n",
      " |  __sizeof__(self, /)\n",
      " |      Return the size of the list in memory, in bytes.\n",
      " |  \n",
      " |  append(self, object, /)\n",
      " |      Append object to the end of the list.\n",
      " |  \n",
      " |  clear(self, /)\n",
      " |      Remove all items from list.\n",
      " |  \n",
      " |  copy(self, /)\n",
      " |      Return a shallow copy of the list.\n",
      " |  \n",
      " |  count(self, value, /)\n",
      " |      Return number of occurrences of value.\n",
      " |  \n",
      " |  extend(self, iterable, /)\n",
      " |      Extend list by appending elements from the iterable.\n",
      " |  \n",
      " |  index(self, value, start=0, stop=9223372036854775807, /)\n",
      " |      Return first index of value.\n",
      " |      \n",
      " |      Raises ValueError if the value is not present.\n",
      " |  \n",
      " |  insert(self, index, object, /)\n",
      " |      Insert object before index.\n",
      " |  \n",
      " |  pop(self, index=-1, /)\n",
      " |      Remove and return item at index (default last).\n",
      " |      \n",
      " |      Raises IndexError if list is empty or index is out of range.\n",
      " |  \n",
      " |  remove(self, value, /)\n",
      " |      Remove first occurrence of value.\n",
      " |      \n",
      " |      Raises ValueError if the value is not present.\n",
      " |  \n",
      " |  reverse(self, /)\n",
      " |      Reverse *IN PLACE*.\n",
      " |  \n",
      " |  sort(self, /, *, key=None, reverse=False)\n",
      " |      Sort the list in ascending order and return None.\n",
      " |      \n",
      " |      The sort is in-place (i.e. the list itself is modified) and stable (i.e. the\n",
      " |      order of two equal elements is maintained).\n",
      " |      \n",
      " |      If a key function is given, apply it once to each list item and sort them,\n",
      " |      ascending or descending, according to their function values.\n",
      " |      \n",
      " |      The reverse flag can be set to sort in descending order.\n",
      " |  \n",
      " |  ----------------------------------------------------------------------\n",
      " |  Class methods defined here:\n",
      " |  \n",
      " |  __class_getitem__(...) from builtins.type\n",
      " |      See PEP 585\n",
      " |  \n",
      " |  ----------------------------------------------------------------------\n",
      " |  Static methods defined here:\n",
      " |  \n",
      " |  __new__(*args, **kwargs) from builtins.type\n",
      " |      Create and return a new object.  See help(type) for accurate signature.\n",
      " |  \n",
      " |  ----------------------------------------------------------------------\n",
      " |  Data and other attributes defined here:\n",
      " |  \n",
      " |  __hash__ = None\n",
      "\n"
     ]
    }
   ],
   "source": [
    "help(list)"
   ]
  },
  {
   "cell_type": "code",
   "execution_count": 20,
   "id": "94c7bf5a",
   "metadata": {},
   "outputs": [
    {
     "name": "stdout",
     "output_type": "stream",
     "text": [
      "[1, 3, 5, 7, 7]\n",
      "2\n"
     ]
    }
   ],
   "source": [
    "#Beispiel für sort und count\n",
    "zahlen = [3,7,1,5,7]\n",
    "zahlen.sort()\n",
    "print(zahlen)\n",
    "print(zahlen.count(7))"
   ]
  },
  {
   "cell_type": "markdown",
   "id": "ffce0f82",
   "metadata": {},
   "source": [
    "### Übung zu help(list)\n",
    "Erstelle eine Liste mit vielen beliebigen Zahlen<br>\n",
    "Nutze nun den Funktionsaufruf help(list) um die folgenden Übungen zu erledigen.\n",
    "- Gib die Liste sortiert aus.<br>\n",
    "- Gib die Liste umgekehrt sortiert aus(dafür gibt es einen Parameter).<br>\n",
    "- Gib für alle geraden Zahlen von 0 bis 10 aus, wie oft sie vorkommt.<br>\n",
    "- Gib für die letzten 3 Zahlen aus, wann sie das erste Mal vorkommen.<br>\n",
    "- Eine Funktion ist weiter oben (in dem __xxx___ -TEil erklärt). Das ist die Funktion len(liste). Sie ist sehr wichtig. Wenn du dich weiter mit Python beschäftigst, lernst du irgendwann den Unterschied zwischen einer Funktion und einer Methode. <br>Gib die Länge deiner Liste aus.<br>\n",
    "- Lösche alle Elemente deiner Liste und gib sie danach aus.<br>\n",
    "- Nutze eine for-Schleife, um alle geraden Zahlen von 2 bis 12 an die Liste anzufügen.<br>\n",
    "- Nutze eine for-Schleife, um alle ungeraden Zahlen von 1 bis 13 an die Liste anzufügen.<br>\n",
    "- Lösche die 1 aus der Liste.\n",
    "- Gib die Länge deiner Liste aus.\n",
    "\n"
   ]
  },
  {
   "cell_type": "markdown",
   "id": "fa4b145c",
   "metadata": {},
   "source": [
    "## Erstellen einer Liste mit pythonischem Zauber\n",
    "Manchmal ist es etwas langwierig, alle Elemente einer Liste einzutippen. Zum Beispiel dann, wenn man alle geraden Zahlen von 2 bis 100 haben möchte, oder alle Buchstaben eines Wortes. Dann kann man einfach beschreiben, welches die Elemente einer Liste sind.<br>\n",
    "Der pythonische Zauber heißt übrigens <b>list comprehension</b>"
   ]
  },
  {
   "cell_type": "code",
   "execution_count": 21,
   "id": "4b08a73a",
   "metadata": {},
   "outputs": [
    {
     "name": "stdout",
     "output_type": "stream",
     "text": [
      "[2, 4, 6, 8, 10, 12, 14, 16, 18, 20, 22, 24, 26, 28, 30, 32, 34, 36, 38, 40, 42, 44, 46, 48, 50, 52, 54, 56, 58, 60, 62, 64, 66, 68, 70, 72, 74, 76, 78, 80, 82, 84, 86, 88, 90, 92, 94, 96, 98, 100]\n"
     ]
    }
   ],
   "source": [
    "# alle geraden Zahlen von 2 bis 100\n",
    "gerade = [i for i in range(2,101,2)]\n",
    "print(gerade)"
   ]
  },
  {
   "cell_type": "code",
   "execution_count": 22,
   "id": "82a7479f",
   "metadata": {},
   "outputs": [
    {
     "name": "stdout",
     "output_type": "stream",
     "text": [
      "[2, 4, 6, 8, 10, 12, 14, 16, 18, 20, 22, 24, 26, 28, 30, 32, 34, 36, 38, 40, 42, 44, 46, 48, 50, 52, 54, 56, 58, 60, 62, 64, 66, 68, 70, 72, 74, 76, 78, 80, 82, 84, 86, 88, 90, 92, 94, 96, 98, 100]\n"
     ]
    }
   ],
   "source": [
    "#oder auch:\n",
    "gerade = [2*i for i in range(1,51)]\n",
    "print(gerade)"
   ]
  },
  {
   "cell_type": "code",
   "execution_count": 23,
   "id": "09e6586a",
   "metadata": {},
   "outputs": [
    {
     "name": "stdout",
     "output_type": "stream",
     "text": [
      "['D', 'a', 's', ' ', 'i', 's', 't', ' ', 'k', 'e', 'i', 'n', ' ', 'W', 'o', 'r', 't', ' ', 's', 'o', 'n', 'd', 'e', 'r', 'n', ' ', 'e', 'i', 'n', ' ', 'S', 'a', 't', 'z']\n"
     ]
    }
   ],
   "source": [
    "wort = \"Das ist kein Wort sondern ein Satz\"\n",
    "vokale = ['a', 'e', 'i', 'o', 'u', 'A', 'E', 'I', 'O', 'U']\n",
    "\n",
    "# Alle Buchstaben eines Wortes (ein Wort kann man auch durchlaufen)\n",
    "buchstaben = [b for b in wort]\n",
    "print(buchstaben)"
   ]
  },
  {
   "cell_type": "code",
   "execution_count": 24,
   "id": "1e377480",
   "metadata": {},
   "outputs": [
    {
     "name": "stdout",
     "output_type": "stream",
     "text": [
      "['a', 'i', 'e', 'i', 'o', 'o', 'e', 'e', 'i', 'a']\n"
     ]
    }
   ],
   "source": [
    "#Alle Buchstaben eines Wortes, aber nur, wenn es Vokale sind\n",
    "buchstaben = [b for b in wort if b in vokale]\n",
    "print(buchstaben)"
   ]
  },
  {
   "cell_type": "code",
   "execution_count": 25,
   "id": "73987dff",
   "metadata": {},
   "outputs": [
    {
     "name": "stdout",
     "output_type": "stream",
     "text": [
      "['D', 's', ' ', 's', 't', ' ', 'k', 'n', ' ', 'W', 'r', 't', ' ', 's', 'n', 'd', 'r', 'n', ' ', 'n', ' ', 'S', 't', 'z']\n",
      "Ds st kn Wrt sndrn n Stz\n"
     ]
    }
   ],
   "source": [
    "#Alle Buchstaben eines Wortes, aber nur, wenn es keine Vokale sind\n",
    "buchstaben = [b for b in wort if not b in vokale]\n",
    "print(buchstaben)\n",
    "\n",
    "for b in buchstaben:\n",
    "    print(b, end = \"\")\n",
    "print()"
   ]
  },
  {
   "cell_type": "code",
   "execution_count": 26,
   "id": "8957ec72",
   "metadata": {},
   "outputs": [
    {
     "name": "stdout",
     "output_type": "stream",
     "text": [
      "Ds st kn Wrt sndrn n Stz\n"
     ]
    }
   ],
   "source": [
    "# erfahrene Programmierer schreiben das so:\n",
    "print(\"\".join(buchstaben))"
   ]
  },
  {
   "cell_type": "code",
   "execution_count": 27,
   "id": "6c81ff12",
   "metadata": {},
   "outputs": [
    {
     "name": "stdout",
     "output_type": "stream",
     "text": [
      "D*s* *s*t* *k*n* *W*r*t* *s*n*d*r*n* *n* *S*t*z\n"
     ]
    }
   ],
   "source": [
    "#oder so\n",
    "print(\"*\".join(buchstaben))"
   ]
  },
  {
   "cell_type": "markdown",
   "id": "7c54c077",
   "metadata": {},
   "source": [
    "Der Aufbau einer list comrehension besteht also aus 3 Teilen:\n",
    "- Wie wird ein Element  aus der Aufzählung verarbeitet<br>\n",
    "- ... for el in <Aufzählung>\n",
    "- Elemente nach bestimmtem Eigenschaften filtern\n",
    "\n",
    "<code>\n",
    "    [Element el einer Aufzählung a verarbeiten for el in a if FilterfürElemente]\n",
    "</code>\n",
    "\n",
    "- Statt el darf ein Element auch i, wort hugo, irgendwie heissen - es ist einfach eine Variable<br>\n",
    "- Eine Aufzählung kann ein Wort sein, eine Liste, eine range(),...<br>\n",
    "- Der Filter muss durch eine Ausdruck beschrieben werden, der wahr oder falsch ist. Das kann sein: el > 5 . el[1] == \"w\", len(el) == 5, isalpha(el)..."
   ]
  },
  {
   "cell_type": "markdown",
   "id": "ee4a8b42",
   "metadata": {},
   "source": [
    "### Übungen zur list comprehension\n",
    "- Erstelle eine Liste mit allen durch 3 teilbaren Zahlen von 201 bis 300 (range(201,301,3)<br>\n",
    "- Erstelle eine Liste aller Zahlen von 1 bis 10 in Binärdarstellung. Die Funktion heißt bin(x).<br>\n",
    "- Setze eine Liste von Wörtern in Großbuchstaben um. Nutze dafür die Methode upper.<br>\n",
    "(\"satz\".upper() wird zu SATZ und wenn du eine Variable w hast, dann geht das mit w.upper())<br>\n",
    "\n",
    "- Erstelle eine Liste mit allen Ziffern einer Zahl. Die Zahl darf ein Wort sein, aber die Ziffer muss eine Zahl sein. \"3\" wird in 3 umgewandelt mit der Funktion int(x).<br>\n",
    "- Buchstaben werden in Computern mit Zahlen codiert. Das ist der ascci-code. Erstelle eine Liste der ascii-codes der Buchstaben a,b,c,d,e,f. Die Funktion dazu lautet ord(b).<br>\n",
    "- Wandle die eben erstellte Liste wieder zurück in Buchstaben. Die Funktion dazu lautet chr(n).\n",
    "- GROSSE ABSCHLUSSAUFGABE<br>\n",
    "Die Quersumme einer Zahl ist die Summe aller ihrer Ziffern. Die Quersumme von 93 ist also 9+3 = 12.\n",
    "Wir wollen die Quersumme einer eingegebenen Zahl bestimmen und zwar solange, bis die Quersumme einstellig ist.<br>\n",
    "Dazu brauchen wir erstmal einen Schlachtplan:\n",
    "Wir lassen den User ein Zahlwort eingeben.(Also keine Zahl - kein int()).<br>\n",
    "BEispiel: wortzahl = \"1234\"<br>\n",
    "Die Länge der wortzahl ist grösser als 1, daher sind wir noch nicht am Ziel.\n",
    "Mit der list comprehension erstellen wir eine Liste aller Ziffern, diesesmal als Zahlen.<br>\n",
    "=>[1,2,3,4]\n",
    " Wir summieren die Zahlen der Liste auf mit der Funktion sum(liste)<br>\n",
    " =>10<br>\n",
    " Die zahl ist groesser als 9, also weiter. \n",
    " Aus zahl machen wir wieder eine wortzahl mit str(n).<br>\n",
    " Das wiederholen wir solange, bis wir das gewünschte Ergebnis haben.<br>\n",
    " 1 + 0 = 1, und 1 ist einstellig. Wir sind fertig.<br>\n",
    " Nochmal in kurz:\n",
    " <code>\n",
    "    wortzahl = input()\n",
    "    solange len(wortzahl) > 1\n",
    "      wortzahl zu Liste aus Ziffern\n",
    "      zahl ist die Summe der Ziffernliste\n",
    "      wenn zahl zu gross ist: wortzahl ist der String der Zahl\n",
    "    \n",
    "    \n",
    "      \n",
    "  \n",
    "    \n",
    "    \n",
    " \n",
    " \n"
   ]
  },
  {
   "cell_type": "markdown",
   "id": "85f45aaa",
   "metadata": {},
   "source": [
    "## Indexzugriff auf eine Liste/einen String und der Sushi-Operator\n",
    "<img src = \"https://th.bing.com/th/id/R.2be0644f2a42de0e3cae97b2d6c1e166?rik=T%2fetxdPiZPMC7w&riu=http%3a%2f%2fwww.sushi-selber-machen.org%2fwp-content%2fuploads%2f2012%2f09%2fSushi-Rolle-schneiden.jpg&ehk=Gs4CqHkujBc3qPipCFqx2s279frBqyaPtfYwRSN4HKY%3d&risl=&pid=ImgRaw&r=0\">\n",
    "\n",
    "<b> Computer fangen bei 0 an zu zählen </b>\n",
    "Wir wollen den 3. Eintrag einer Liste haben, oder die ersten drei Einträge oder die letzten drei Einträge oder jeden 2. Eintrag oder... das Mittelstück der Sushirolle."
   ]
  },
  {
   "cell_type": "code",
   "execution_count": 28,
   "id": "7b880bb0",
   "metadata": {},
   "outputs": [
    {
     "name": "stdout",
     "output_type": "stream",
     "text": [
      "4356\n",
      "894\n"
     ]
    }
   ],
   "source": [
    "gewinner = [4356,87459,894,879898,\"Anton\"]\n",
    "# Die Goldmedallie geht an\n",
    "print(gewinner[0])\n",
    "# Bronze geht an\n",
    "print(gewinner[2])"
   ]
  },
  {
   "cell_type": "code",
   "execution_count": 29,
   "id": "034e5bd7",
   "metadata": {},
   "outputs": [
    {
     "name": "stdout",
     "output_type": "stream",
     "text": [
      "[4356, 87459, 894]\n"
     ]
    }
   ],
   "source": [
    "# Einfach... jetzt kommen Sublisten also mehr als ein Element der Liste\n",
    "# Medallien bekommen (ja... der letzte wird wieder nicht mitgenommen, das kennen wir aus range)\n",
    "print(gewinner[0:3])"
   ]
  },
  {
   "cell_type": "code",
   "execution_count": 30,
   "id": "dd5b7871",
   "metadata": {},
   "outputs": [
    {
     "name": "stdout",
     "output_type": "stream",
     "text": [
      "[4356, 894, 'Anton']\n"
     ]
    }
   ],
   "source": [
    "# Die geraden Plätze werden belegt von\n",
    "print(gewinner[0:5:2])"
   ]
  },
  {
   "cell_type": "code",
   "execution_count": 31,
   "id": "a2695d96",
   "metadata": {},
   "outputs": [
    {
     "name": "stdout",
     "output_type": "stream",
     "text": [
      "Auf das Podest kommen [4356, 87459, 894] \n"
     ]
    }
   ],
   "source": [
    "#So geht das also: gewinner [start:ende:hops]\n",
    "# Und man kann start,ende,hops weglassen, dann gibt man an der Stell nichts ein\n",
    "\n",
    "# Start weglassem, dann geht es von Anfang an\n",
    "print(f\"Auf das Podest kommen {gewinner[:3]} \")"
   ]
  },
  {
   "cell_type": "code",
   "execution_count": 32,
   "id": "8cb04f2f",
   "metadata": {},
   "outputs": [
    {
     "name": "stdout",
     "output_type": "stream",
     "text": [
      "Kein Preis für [879898, 'Anton']\n"
     ]
    }
   ],
   "source": [
    "#Ende weglassen, dann werden alle  Elemente genommen\n",
    "print(f\"Kein Preis für {gewinner[3:]}\")"
   ]
  },
  {
   "cell_type": "code",
   "execution_count": 33,
   "id": "e2a4bd44",
   "metadata": {},
   "outputs": [
    {
     "name": "stdout",
     "output_type": "stream",
     "text": [
      "Auf den geraden Plätzen sind [4356, 894, 'Anton']\n"
     ]
    }
   ],
   "source": [
    "#Anfang weglassen aber Hops mitnehmen\n",
    "print(f\"Auf den geraden Plätzen sind {gewinner[::2]}\")"
   ]
  },
  {
   "cell_type": "code",
   "execution_count": 34,
   "id": "2fa151fc",
   "metadata": {},
   "outputs": [
    {
     "name": "stdout",
     "output_type": "stream",
     "text": [
      "sgnirtS tim hcua theg saD\n"
     ]
    }
   ],
   "source": [
    "# Das geht auch mit Strings\n",
    "wort = \"Das geht auch mit Strings\"\n",
    "# Ich hopse rückwärts\n",
    "print(wort[::-1])"
   ]
  },
  {
   "cell_type": "markdown",
   "id": "f201daeb",
   "metadata": {},
   "source": [
    "#### Übungen zum Indexzugriff\n",
    "- Lass den User ein Wort eingeben und gib es umgekehrt wieder aus.<br>\n",
    "- Schreibe eine geheime Botschaft, indem du eine Wort schreibst, bei dem nur jeder zweite Buchstabe zählt.\n",
    "Gib die geheime Botschaft entschlüsselt aus.<br>\n",
    "- Ein Pallindrom ist ein Wort, das vorwärts- und rückwärtsgelesen gleich ist.<br>\n",
    "Beispiele: anna,omo,toto.<br>Lass den user ein Wort eingeben und gib aus, ob das Wort ein Pallindrom ist.<br>\n",
    "    Das ist es, wenn wort == wort[::-1] ist.<br>\n",
    "- Erstelle eine Liste mit vielen Zahlen und gib die 3 kleinsten Zahlen aus.(Sortieren macht Sinn)<br>\n",
    "- Lass den User eine Zahl n eingebe und gib den n. Eintrag der Liste aus.<br>\n",
    "Wenn der User eine 3 eingibt, will er auch den 3.Eintrag haben, nicht den 4. Eintrag!\n",
    " \n",
    "\n"
   ]
  },
  {
   "cell_type": "markdown",
   "id": "95b74e22",
   "metadata": {},
   "source": [
    "# Funktionen\n",
    "Eine Aufgabe im Programm war es, herauszufinden, ob ein Wort ein Pallindrom ist.\n",
    "Das wäre natürlich am einfachsten gewesen, wenn es eine Funktion geben würde. Etwa so:\n",
    "<code>\n",
    "    print(istEinPallindrom(\"ANNA\"))\n",
    "</code>\n",
    "Die schlechte Nachricht lautet: So eine Funktion gibt es nicht.\n",
    "Die gute Nachricht lautet: Wir können sie aber bauen (definieren).\n",
    "Das kennen wir eigentlich auch schon aus der Schule:\n",
    "<code>\n",
    "f(x) = 3x+1\n",
    " </code>\n",
    " \n",
    " Gibst du der Funktion eine 3, gibt sie eine 1o zurück. So ähnlich machen wir das auch.\n",
    "\n"
   ]
  },
  {
   "cell_type": "markdown",
   "id": "2230ae0f",
   "metadata": {},
   "source": [
    "## Eine Funktion definieren"
   ]
  },
  {
   "cell_type": "code",
   "execution_count": 35,
   "id": "be416174",
   "metadata": {},
   "outputs": [
    {
     "name": "stdout",
     "output_type": "stream",
     "text": [
      "10\n",
      "7\n"
     ]
    }
   ],
   "source": [
    "# definiere eine Funktion, die eine Zahl x annimmt und 3*x+1 wiedergibt\n",
    "\n",
    "def dreiMalXPlus1(x):\n",
    "    y = 3*x+1\n",
    "    return y\n",
    "\n",
    "# ausprobieren\n",
    "print(dreiMalXPlus1(3))\n",
    "\n",
    "\n",
    "#Ich kann auch mehr als einen Wert annehmen\n",
    "def addiere(x,y):\n",
    "    summe = x+y\n",
    "    return summe\n",
    "\n",
    "# Ausprobieren\n",
    "s = addiere(3,4)\n",
    "print(s)\n"
   ]
  },
  {
   "cell_type": "markdown",
   "id": "306b7a6e",
   "metadata": {},
   "source": [
    "Aha! Da ist wieder unser Doppelpunkt mit einrücken!<br>\n",
    "\n",
    "Statt if und while haben wir dieses Mal das Keyword \"def\". Danach kommt der Name der Funktion(der fängt IMMER mit einem Buchstaben an), danach der Doppelpunkt und dann eingerückt der Code der Funktion.\n",
    "Alles was eingerückt ist, gehört zur Definition der Funktion.<br>\n",
    "Und wenn die Funktion fertig ist mit Berechnen, gibt sie das Ergebnis zurück, dazu gibt es den Befehl return."
   ]
  },
  {
   "cell_type": "markdown",
   "id": "0e2f2e0b",
   "metadata": {},
   "source": [
    "## Übungen zum Definieren von Funktionen\n",
    "- Definiere eine Funktion add3, die drei Zahlen x1,x2 und x3 annimmt und die Summe der drei Zahlen zurückgibt.<br>\n",
    "\n",
    "- Definiere eine Funktion rueckwaerts, die ein Wort w annimmt und das umgedrehte Wort zurückgibt<br>\n",
    "- Definiere eine Funktion, die ein Wort w annimmt und die Variable True zurückgibt, wenn w ein Pallindrom ist, andernfalls False.<br>\n",
    "- Definiere eine Funktion testeZahl, die zwei Zahlen x1 und x2 annimmt und den String \"Die Zahl {x1} ist kleiner als/groesser als/ genau die Zahl{x2}\" zurückgibt. Die Aussage muss natürlch stimmen. Wenn du mit if arbeitest, achte auf das korrekt Einrücken und Ausrücken und denke an den Doppelpunkt.\n",
    "- Definiere eine Funktion quersumme(wortzahl), die die Quersumme einer wortzahl als wortzahl zurückgibt. \n",
    "Die Quersumme ist wieder solange zu ermitteln, bis sie einstellig ist. Wir verwenden also den Code aus der list comprehension und machen eine Funktion daraus.<br>\n",
    "Nutze diese Funktion, um die Quersumme der Zahlen von 100 bis 200 mit einer list comprehension zu ermitteln."
   ]
  },
  {
   "cell_type": "markdown",
   "id": "82b2dd6e",
   "metadata": {},
   "source": [
    "##  Gedanken zur Quersumme\n",
    "Wahrscheinlich fällt dir auf, dass die Liste der Quersummen einer Regel entspricht (1,2,3,4,5,6,7,8,9,1,2,3,4,5,6,7,8,9). Das ist ein sicheres Anzeichen dafür, dass man das Problem viel eleganter und kürzer lösen kann. Tatsächlich geht es auch so:"
   ]
  },
  {
   "cell_type": "code",
   "execution_count": 36,
   "id": "8484e280",
   "metadata": {},
   "outputs": [
    {
     "data": {
      "text/plain": [
       "['Die Quersumme von 103 ist 4',\n",
       " 'Die Quersumme von 104 ist 5',\n",
       " 'Die Quersumme von 105 ist 6',\n",
       " 'Die Quersumme von 106 ist 7',\n",
       " 'Die Quersumme von 107 ist 8',\n",
       " 'Die Quersumme von 108 ist 9',\n",
       " 'Die Quersumme von 109 ist 1',\n",
       " 'Die Quersumme von 110 ist 2',\n",
       " 'Die Quersumme von 111 ist 3',\n",
       " 'Die Quersumme von 112 ist 4',\n",
       " 'Die Quersumme von 113 ist 5',\n",
       " 'Die Quersumme von 114 ist 6',\n",
       " 'Die Quersumme von 115 ist 7',\n",
       " 'Die Quersumme von 116 ist 8']"
      ]
     },
     "execution_count": 36,
     "metadata": {},
     "output_type": "execute_result"
    }
   ],
   "source": [
    "[(f\"Die Quersumme von {i} ist {(i-1)%9 + 1}\") for i in range(103,117)]\n"
   ]
  },
  {
   "cell_type": "markdown",
   "id": "8105297c",
   "metadata": {},
   "source": [
    "Computer sind dumm und können nicht denken. Aber du kannst mit einem Programm deine Ideen ausdrücken, wie etwas zu tun ist. Und der Computer macht dann für dich.<br>\n",
    "Überlege immer, ob du dich nicht eleganter ausdrücken kannst oder ob ein Problem vielleicht ganz anders lösbar ist, als du zuerst gedacht hast.<br>\n",
    "Es gibt viele Hobbyprogrammierer, die Code Golf spielen, also eine Aufgabe mit einem möglichst kurzen Code lösen.\n",
    "Dann gibt es noch die Oneliner-Enthusiasten, die jede Programmieraufgabe mit genau einer Zeile Code lösen.\n",
    "Einen solchen Oneliner habe ich dir ebemn gezeigt.<br>\n",
    "Gelegentlich sind solche Programme nicht lesbar und sie können nicht gewartet werden. Sie sind aber eine gute Übung. \n",
    "= BRAIN FIRST\n",
    "=\n"
   ]
  },
  {
   "cell_type": "markdown",
   "id": "4b2b1f3b",
   "metadata": {},
   "source": [
    "⬜⬛⬜⬛⬜⬛⬜⬛⬜⬛⬜⬛⬜⬛⬜<br>\n",
    "⬛⬜⬛⬜⬛⬜⬛⬜⬛⬜⬛⬜⬛⬜⬛<br>\n",
    "⬜⬛⬛⬛⬜⬛⬜⬜⬜⬛⬜⬛⬛⬛⬜<br>\n",
    "⬛⬜⬛⬜⬛⬜⬜⬜⬜⬜⬛⬜⬛⬜⬛<br>\n",
    "⬜⬛⬜⬛⬜⬜⬜⬛⬜⬜⬜⬛⬜⬛⬜<br>\n",
    "⬛⬜⬛⬜⬜⬜⬛⬜⬛⬜⬜⬜⬛⬜⬛<br>\n",
    "⬜⬛⬜⬜⬜⬛⬜⬛⬜⬛⬜⬜⬜⬛⬜<br>\n",
    "⬛⬜⬜⬜⬛⬜⬛⬛⬛⬜⬛⬜⬜⬜⬛<br>\n",
    "⬜⬛⬜⬜⬜⬛⬜⬛⬜⬛⬜⬜⬜⬛⬜<br>\n",
    "⬛⬜⬛⬜⬜⬜⬛⬜⬛⬜⬜⬜⬛⬜⬛<br>\n",
    "⬜⬛⬜⬛⬜⬜⬜⬛⬜⬜⬜⬛⬜⬛⬜<br>\n",
    "⬛⬜⬛⬜⬛⬜⬜⬜⬜⬜⬛⬜⬛⬜⬛<br>\n",
    "⬜⬛⬛⬛⬜⬛⬜⬜⬜⬛⬜⬛⬛⬛⬜<br>\n",
    "⬛⬜⬛⬜⬛⬜⬛⬜⬛⬜⬛⬜⬛⬜⬛<br>\n",
    "\n",
    "\n",
    "Dieses Muster wurde mit einem Code programmiert, der aus weniger als 90 Zeichen besteht. Es war übrigens sogar ein Oneliner.\n",
    "Mit dem, was du in diesem Kurs gelernt hast, kannst du das auch.\n",
    "Alles unter 200 Zeichen ist GROSSARTIG!"
   ]
  },
  {
   "cell_type": "markdown",
   "id": "c88e508f",
   "metadata": {},
   "source": [
    "# Kleine Projekte"
   ]
  },
  {
   "cell_type": "markdown",
   "id": "43b9e6fa",
   "metadata": {},
   "source": [
    "## Pallindorome aus dem Internet\n"
   ]
  },
  {
   "cell_type": "code",
   "execution_count": 37,
   "id": "38bc214f",
   "metadata": {},
   "outputs": [
    {
     "data": {
      "text/plain": [
       "{'aba',\n",
       " 'abba',\n",
       " 'acca',\n",
       " 'ada',\n",
       " 'adda',\n",
       " 'affa',\n",
       " 'aga',\n",
       " 'aha',\n",
       " 'aidemedia',\n",
       " 'aja',\n",
       " 'akasaka',\n",
       " 'ala',\n",
       " 'alla',\n",
       " 'alula',\n",
       " 'ama',\n",
       " 'ana',\n",
       " 'animositisomina',\n",
       " 'anina',\n",
       " 'anna',\n",
       " 'annasusanna',\n",
       " 'aoxomoxoa',\n",
       " 'ara',\n",
       " 'ata',\n",
       " 'atta',\n",
       " 'aua',\n",
       " 'ava',\n",
       " 'beb',\n",
       " 'begeb',\n",
       " 'beheb',\n",
       " 'beleb',\n",
       " 'beweb',\n",
       " 'bib',\n",
       " 'bob',\n",
       " 'bub',\n",
       " 'burggrub',\n",
       " 'cauac',\n",
       " 'civic',\n",
       " 'dad',\n",
       " 'dioid',\n",
       " 'dorkrockcorkrod',\n",
       " 'drehherd',\n",
       " 'ebbe',\n",
       " 'ecce',\n",
       " 'ede',\n",
       " 'effe',\n",
       " 'egge',\n",
       " 'ehe',\n",
       " 'eie',\n",
       " 'eke',\n",
       " 'elle',\n",
       " 'emme',\n",
       " 'ene',\n",
       " 'enone',\n",
       " 'epe',\n",
       " 'eppe',\n",
       " 'esse',\n",
       " 'ette',\n",
       " 'eue',\n",
       " 'eve',\n",
       " 'ewe',\n",
       " 'exe',\n",
       " 'gag',\n",
       " 'gig',\n",
       " 'gnudung',\n",
       " 'gog',\n",
       " 'grassarg',\n",
       " 'hallah',\n",
       " 'hammah',\n",
       " 'handnah',\n",
       " 'hangnah',\n",
       " 'hannah',\n",
       " 'huh',\n",
       " 'höh',\n",
       " 'hüh',\n",
       " 'idi',\n",
       " 'ihi',\n",
       " 'immi',\n",
       " 'irori',\n",
       " 'kaak',\n",
       " 'kajak',\n",
       " 'kak',\n",
       " 'kanak',\n",
       " 'kasak',\n",
       " 'kek',\n",
       " 'kelek',\n",
       " 'kellek',\n",
       " 'kukuk',\n",
       " 'laal',\n",
       " 'lagerregal',\n",
       " 'legel',\n",
       " 'legovogel',\n",
       " 'lehel',\n",
       " 'lemmel',\n",
       " 'leseesel',\n",
       " 'lessel',\n",
       " 'level',\n",
       " 'madam',\n",
       " 'malajalam',\n",
       " 'malayalam',\n",
       " 'mam',\n",
       " 'maoam',\n",
       " 'maqam',\n",
       " 'marktkram',\n",
       " 'matam',\n",
       " 'medem',\n",
       " 'melem',\n",
       " 'mem',\n",
       " 'mim',\n",
       " 'minim',\n",
       " 'mom',\n",
       " 'monom',\n",
       " 'mononom',\n",
       " 'mum',\n",
       " 'mussum',\n",
       " 'mīm',\n",
       " 'naan',\n",
       " 'naban',\n",
       " 'natan',\n",
       " 'neben',\n",
       " 'neffen',\n",
       " 'nellen',\n",
       " 'nennen',\n",
       " 'neozoen',\n",
       " 'neppen',\n",
       " 'netten',\n",
       " 'netzten',\n",
       " 'neuen',\n",
       " 'neven',\n",
       " 'nisin',\n",
       " 'non',\n",
       " 'nonanon',\n",
       " 'nonenon',\n",
       " 'noninon',\n",
       " 'notton',\n",
       " 'nun',\n",
       " 'obo',\n",
       " 'odo',\n",
       " 'oho',\n",
       " 'okko',\n",
       " 'ommo',\n",
       " 'onno',\n",
       " 'otto',\n",
       " 'ovo',\n",
       " 'pep',\n",
       " 'planalp',\n",
       " 'poop',\n",
       " 'pop',\n",
       " 'pup',\n",
       " 'radar',\n",
       " 'rar',\n",
       " 'redder',\n",
       " 'reer',\n",
       " 'reffer',\n",
       " 'regallager',\n",
       " 'reger',\n",
       " 'reher',\n",
       " 'reitstier',\n",
       " 'reittier',\n",
       " 'reliefpfeiler',\n",
       " 'remer',\n",
       " 'renner',\n",
       " 'rentner',\n",
       " 'reper',\n",
       " 'resser',\n",
       " 'retter',\n",
       " 'reyer',\n",
       " 'ror',\n",
       " 'rotator',\n",
       " 'rotor',\n",
       " 'rur',\n",
       " 'rör',\n",
       " 'saas',\n",
       " 'sabas',\n",
       " 'sagas',\n",
       " 'salas',\n",
       " 'sallas',\n",
       " 'saras',\n",
       " 'sarras',\n",
       " 'satanoscillatemymetallicsonatas',\n",
       " 'sedes',\n",
       " 'sees',\n",
       " 'semes',\n",
       " 'sennes',\n",
       " 'sereneres',\n",
       " 'serres',\n",
       " 'sexes',\n",
       " 'sojos',\n",
       " 'sokos',\n",
       " 'soldlos',\n",
       " 'solos',\n",
       " 'soos',\n",
       " 'staats',\n",
       " 'stannats',\n",
       " 'stets',\n",
       " 'stits',\n",
       " 'succus',\n",
       " 'sucus',\n",
       " 'sugus',\n",
       " 'sukkus',\n",
       " 'summus',\n",
       " 'surrus',\n",
       " 'sus',\n",
       " 'süs',\n",
       " 'tacocat',\n",
       " 'tannat',\n",
       " 'tartrat',\n",
       " 'tat',\n",
       " 'teebeet',\n",
       " 'teet',\n",
       " 'tennet',\n",
       " 'testset',\n",
       " 'tet',\n",
       " 'tillit',\n",
       " 'torfrot',\n",
       " 'tot',\n",
       " 'trabart',\n",
       " 'tramart',\n",
       " 'tranart',\n",
       " 'trollort',\n",
       " 'tugut',\n",
       " 'tut',\n",
       " 'töt',\n",
       " 'tüt',\n",
       " 'udu',\n",
       " 'uhu',\n",
       " 'ulu',\n",
       " 'uru',\n",
       " 'usu',\n",
       " 'utu',\n",
       " 'viv',\n",
       " 'waw',\n",
       " 'woddow',\n",
       " 'wow',\n",
       " 'xamax',\n",
       " 'xanax',\n",
       " 'zeez',\n",
       " 'ćirić'}"
      ]
     },
     "execution_count": 37,
     "metadata": {},
     "output_type": "execute_result"
    }
   ],
   "source": [
    "# Befehlsvorrat abholen\n",
    "import requests\n",
    "allwords = []\n",
    "# url der zu lesenden Seite\n",
    "url = \"https://de.wikipedia.org/wiki/Liste_deutscher_Palindrome#Wortpalindrome\"\n",
    "\n",
    "# Seite anfordern\n",
    "r = requests.get(url)\n",
    "\n",
    "#Seite auswerten\n",
    "worte = [w.lower() for w in r.text.replace('(',\" \").replace(\"<\",\" \").replace(\">\",\" \").split(\" \") if len(w) >= 3 and w.isalpha()]\n",
    "allwords.extend( [w for w in worte if w == w[::-1]])\n",
    "set(allwords)"
   ]
  },
  {
   "cell_type": "markdown",
   "id": "349f0a08",
   "metadata": {},
   "source": [
    "## Dein Name als ascii-Art"
   ]
  },
  {
   "cell_type": "code",
   "execution_count": 6,
   "id": "05acf1dd",
   "metadata": {},
   "outputs": [
    {
     "name": "stdin",
     "output_type": "stream",
     "text": [
      "Wie heißt du?:  Tom\n"
     ]
    },
    {
     "name": "stdout",
     "output_type": "stream",
     "text": [
      "3x5:\n",
      "            \n",
      "###         \n",
      " #  ### ### \n",
      " #  # # ### \n",
      " #  ### # # \n",
      " #          \n",
      "\n",
      "4x4_offr:\n",
      " ###### ######## ##       \n",
      "   ##   ######## ###      \n",
      "   ##   ##        ###     \n",
      "   ##   ##         ###    \n",
      "   ##   ##          ###   \n",
      "   ##   ##           ###  \n",
      "   ##   ##            ### \n",
      "        ##             ## \n",
      "\n",
      "5lineoblique:\n",
      "                            \n",
      "                            \n",
      " /__  ___/                  \n",
      "   / /   ___      _   __    \n",
      "  / /  //   ) ) // ) )  ) ) \n",
      " / /  //   / / // / /  / /  \n",
      "/ /  ((___/ / // / /  / /   \n",
      "\n"
     ]
    }
   ],
   "source": [
    "# !pip -qqinstall  pyfiglet\n",
    "import pyfiglet\n",
    "name = input(\"Wie heißt du?: \")\n",
    "o=pyfiglet.Figlet()\n",
    "for el in o.getFonts()[2:5]:\n",
    "    print(f'{el}:\\n{pyfiglet.figlet_format(name, font=el)}')"
   ]
  },
  {
   "cell_type": "markdown",
   "id": "7511e64a",
   "metadata": {},
   "source": [
    "# Wie geht es weiter?\n",
    "Du kannst gerne weitere Kurse belegen, Youtube-Videos glotzen und dir noch eine Menge Input holen.\n",
    "Besser ist es aber, wenn du selber programmierst oder dir Programme von anderen anschaust.\n",
    "Ich mag die App Sololearn sehr gerne. Auch gibt es immer wieder kleine Programmierwettbewerbe.\n",
    "Advent of Code findet in der Adventszeit statt und die Aufgaben sind teilweise nicht sehr schwer.\n",
    "\n",
    "Wenn dieser Kurs noch eine Woche gehen würde, würde ich mit euch über Bibliotheken sprechen. Eine Bibliothek - random- haben wir im vorbeigehen gestreift, zwei weitere habe ich in den kleinen Projekten vorgestellt.\n",
    "\n",
    "Wir kennen auch noch nicht alle eingebauten Datentypen:\n",
    "Sets und Dictionaries helfen dir, den einen oder anderen Code einfacher zu schreiben.\n",
    "\n",
    "Dann müssten wir noch über die Strukturierung von Code reden. Da ginge es dann um Objektorientierung, die in Python aber nicht sehr schön umgesetzt ist.\n",
    "\n",
    "Mit den Älteren von euch würde es jetzt wahrscheinlich mit Diagrammen und Auswertung von Daten weitergehen, die ihr aus dem Internet ziehen könnt. Das wäre dann schon sehr praxisrelevant.\n",
    "\n",
    "Und dann kommt ja auch noch der Spassfaktor: Minecraft hacken, WhatsApp automatisieren, Discord-Bots, Bildverarbeitung und Spieleprogrammierung... alles das geht prima mit Python. Da muss man zwar immer etwas dazulernen, aber wenn du diesen Grundkurs durchgearbeitet hast, ist es gar nicht so schwer.\n"
   ]
  }
 ],
 "metadata": {
  "direction": "ltr",
  "kernelspec": {
   "display_name": "Python 3 (ipykernel)",
   "language": "python",
   "name": "python3"
  },
  "language_info": {
   "codemirror_mode": {
    "name": "ipython",
    "version": 3
   },
   "file_extension": ".py",
   "mimetype": "text/x-python",
   "name": "python",
   "nbconvert_exporter": "python",
   "pygments_lexer": "ipython3",
   "version": "3.10.6"
  },
  "nbTranslate": {
   "displayLangs": [
    "*"
   ],
   "hotkey": "alt-t",
   "langInMainMenu": true,
   "sourceLang": "en",
   "targetLang": "fr",
   "useGoogleTranslate": true
  },
  "toc": {
   "base_numbering": 1,
   "nav_menu": {
    "height": "462px",
    "width": "390px"
   },
   "number_sections": true,
   "sideBar": true,
   "skip_h1_title": false,
   "title_cell": "Inhaltsverzeichnis",
   "title_sidebar": "Contents",
   "toc_cell": true,
   "toc_position": {
    "height": "calc(100% - 180px)",
    "left": "10px",
    "top": "150px",
    "width": "253.719px"
   },
   "toc_section_display": true,
   "toc_window_display": true
  }
 },
 "nbformat": 4,
 "nbformat_minor": 5
}
